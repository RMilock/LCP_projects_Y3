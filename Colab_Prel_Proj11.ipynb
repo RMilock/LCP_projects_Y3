{
  "nbformat": 4,
  "nbformat_minor": 0,
  "metadata": {
    "kernelspec": {
      "display_name": "Python 3",
      "language": "python",
      "name": "python3"
    },
    "language_info": {
      "codemirror_mode": {
        "name": "ipython",
        "version": 3
      },
      "file_extension": ".py",
      "mimetype": "text/x-python",
      "name": "python",
      "nbconvert_exporter": "python",
      "pygments_lexer": "ipython3",
      "version": "3.8.3"
    },
    "colab": {
      "name": "Colab_Prel_Proj11.ipynb",
      "provenance": [],
      "collapsed_sections": [
        "UagZiCvoyp5U"
      ],
      "toc_visible": true,
      "include_colab_link": true
    },
    "accelerator": "GPU"
  },
  "cells": [
    {
      "cell_type": "markdown",
      "metadata": {
        "id": "view-in-github",
        "colab_type": "text"
      },
      "source": [
        "<a href=\"https://colab.research.google.com/github/ZiliottoFilippo/LCP_projects_Y3/blob/MiloccoRiccardo/Colab_Prel_Proj11.ipynb\" target=\"_parent\"><img src=\"https://colab.research.google.com/assets/colab-badge.svg\" alt=\"Open In Colab\"/></a>"
      ]
    },
    {
      "cell_type": "code",
      "metadata": {
        "id": "fEZbaHPvjY6i"
      },
      "source": [
        "#Importing the required libraries.\n",
        "import pandas as pd #for dataframes and reading csv files.\n",
        "import numpy as np # for math operations(sqrt)\n",
        "import matplotlib.pyplot as plt #for plotting the graphs\n",
        "\n",
        "\n",
        "#make the axes white\n",
        "params = {\"ytick.color\" : \"w\",\n",
        "          \"xtick.color\" : \"w\",\n",
        "          \"axes.labelcolor\" : \"w\",\n",
        "          \"axes.edgecolor\" : \"w\",\n",
        "        \"axes.titlecolor\":\"w\",\n",
        "        #\"axes.suptitle\":\"w\"\n",
        "}\n",
        "plt.rcParams.update(params)"
      ],
      "execution_count": 44,
      "outputs": []
    },
    {
      "cell_type": "markdown",
      "metadata": {
        "id": "0lhk_2QSrep3"
      },
      "source": [
        "# Point 1: Data Preparation\n",
        "\n",
        "The csv files are originated from different sources, hence\n",
        "resulting in differences in the encoding and end-of-lines that have to be taken\n",
        "into account in the data preparation phase. Make sure each .csv file is properly\n",
        "interpreted: Difference in the encoding and end-of-lines; -cvs file properly interpreted\n",
        "\n"
      ]
    },
    {
      "cell_type": "code",
      "metadata": {
        "colab": {
          "base_uri": "https://localhost:8080/",
          "height": 424
        },
        "id": "PBFpRfOxjY6x",
        "outputId": "3b498303-b1a3-4c9b-cb00-5713708eb353"
      },
      "source": [
        "#dataframe from day_od.csv: \"day origin and destination\"\n",
        "file_name=\"day_od.csv\"\n",
        "read_day_od=pd.read_csv(file_name,sep=\",\",encoding='utf-16', header=0, quoting=3, quotechar='\"') #comment: explicit header=0 to replace column names;  \n",
        "columns=[\"MONTH\",\"DOW\",\"ORIGIN\",\"DESTINATION\",\"CUST_CLASS\",\"COD_COUNTRY\",\"COD_PRO\",\"PRO_CUM\",\"FLOW\"]\n",
        "read_day_od.columns=columns\n",
        "day_od=pd.DataFrame(read_day_od)#dataFrame of the file(can be read more easily than csv)\n",
        "\n",
        "day_od[ [\"COD_COUNTRY\",\"COD_PRO\",\"PRO_CUM\"] ]=day_od[ [\"COD_COUNTRY\",\"COD_PRO\",\"PRO_CUM\"] ].astype(\"Int64\") #Int64 handles NaN\n",
        "day_od"
      ],
      "execution_count": 45,
      "outputs": [
        {
          "output_type": "execute_result",
          "data": {
            "text/html": [
              "<div>\n",
              "<style scoped>\n",
              "    .dataframe tbody tr th:only-of-type {\n",
              "        vertical-align: middle;\n",
              "    }\n",
              "\n",
              "    .dataframe tbody tr th {\n",
              "        vertical-align: top;\n",
              "    }\n",
              "\n",
              "    .dataframe thead th {\n",
              "        text-align: right;\n",
              "    }\n",
              "</style>\n",
              "<table border=\"1\" class=\"dataframe\">\n",
              "  <thead>\n",
              "    <tr style=\"text-align: right;\">\n",
              "      <th></th>\n",
              "      <th>MONTH</th>\n",
              "      <th>DOW</th>\n",
              "      <th>ORIGIN</th>\n",
              "      <th>DESTINATION</th>\n",
              "      <th>CUST_CLASS</th>\n",
              "      <th>COD_COUNTRY</th>\n",
              "      <th>COD_PRO</th>\n",
              "      <th>PRO_CUM</th>\n",
              "      <th>FLOW</th>\n",
              "    </tr>\n",
              "  </thead>\n",
              "  <tbody>\n",
              "    <tr>\n",
              "      <th>0</th>\n",
              "      <td>Marzo</td>\n",
              "      <td>Domenica</td>\n",
              "      <td>108</td>\n",
              "      <td>300</td>\n",
              "      <td>visitor</td>\n",
              "      <td>222</td>\n",
              "      <td>28</td>\n",
              "      <td>-999</td>\n",
              "      <td>493</td>\n",
              "    </tr>\n",
              "    <tr>\n",
              "      <th>1</th>\n",
              "      <td>Maggio</td>\n",
              "      <td>Lunedì</td>\n",
              "      <td>300</td>\n",
              "      <td>101</td>\n",
              "      <td>visitor</td>\n",
              "      <td>222</td>\n",
              "      <td>93</td>\n",
              "      <td>-999</td>\n",
              "      <td>58</td>\n",
              "    </tr>\n",
              "    <tr>\n",
              "      <th>2</th>\n",
              "      <td>Febbraio</td>\n",
              "      <td>Sabato</td>\n",
              "      <td>108</td>\n",
              "      <td>207</td>\n",
              "      <td>visitor</td>\n",
              "      <td>222</td>\n",
              "      <td>28</td>\n",
              "      <td>-999</td>\n",
              "      <td>39</td>\n",
              "    </tr>\n",
              "    <tr>\n",
              "      <th>3</th>\n",
              "      <td>Aprile</td>\n",
              "      <td>Venerdì</td>\n",
              "      <td>109</td>\n",
              "      <td>121</td>\n",
              "      <td>resident</td>\n",
              "      <td>222</td>\n",
              "      <td>28</td>\n",
              "      <td>28060</td>\n",
              "      <td>106</td>\n",
              "    </tr>\n",
              "    <tr>\n",
              "      <th>4</th>\n",
              "      <td>Maggio</td>\n",
              "      <td>Giovedì</td>\n",
              "      <td>300</td>\n",
              "      <td>120</td>\n",
              "      <td>visitor</td>\n",
              "      <td>222</td>\n",
              "      <td>28</td>\n",
              "      <td>28103</td>\n",
              "      <td>136</td>\n",
              "    </tr>\n",
              "    <tr>\n",
              "      <th>...</th>\n",
              "      <td>...</td>\n",
              "      <td>...</td>\n",
              "      <td>...</td>\n",
              "      <td>...</td>\n",
              "      <td>...</td>\n",
              "      <td>...</td>\n",
              "      <td>...</td>\n",
              "      <td>...</td>\n",
              "      <td>...</td>\n",
              "    </tr>\n",
              "    <tr>\n",
              "      <th>193496</th>\n",
              "      <td>Febbraio</td>\n",
              "      <td>Martedì</td>\n",
              "      <td>205</td>\n",
              "      <td>120</td>\n",
              "      <td>Altro</td>\n",
              "      <td>-999</td>\n",
              "      <td>-999</td>\n",
              "      <td>-999</td>\n",
              "      <td>32</td>\n",
              "    </tr>\n",
              "    <tr>\n",
              "      <th>193497</th>\n",
              "      <td>Marzo</td>\n",
              "      <td>Giovedì</td>\n",
              "      <td>214</td>\n",
              "      <td>115</td>\n",
              "      <td>Altro</td>\n",
              "      <td>-999</td>\n",
              "      <td>-999</td>\n",
              "      <td>-999</td>\n",
              "      <td>32</td>\n",
              "    </tr>\n",
              "    <tr>\n",
              "      <th>193498</th>\n",
              "      <td>Febbraio</td>\n",
              "      <td>Giovedì</td>\n",
              "      <td>124</td>\n",
              "      <td>121</td>\n",
              "      <td>Altro</td>\n",
              "      <td>-999</td>\n",
              "      <td>-999</td>\n",
              "      <td>-999</td>\n",
              "      <td>40</td>\n",
              "    </tr>\n",
              "    <tr>\n",
              "      <th>193499</th>\n",
              "      <td>Aprile</td>\n",
              "      <td>Domenica</td>\n",
              "      <td>110</td>\n",
              "      <td>300</td>\n",
              "      <td>visitor</td>\n",
              "      <td>222</td>\n",
              "      <td>28</td>\n",
              "      <td>28086</td>\n",
              "      <td>36</td>\n",
              "    </tr>\n",
              "    <tr>\n",
              "      <th>193500</th>\n",
              "      <td>Aprile</td>\n",
              "      <td>Lunedì</td>\n",
              "      <td>124</td>\n",
              "      <td>300</td>\n",
              "      <td>visitor</td>\n",
              "      <td>222</td>\n",
              "      <td>69</td>\n",
              "      <td>-999</td>\n",
              "      <td>32</td>\n",
              "    </tr>\n",
              "  </tbody>\n",
              "</table>\n",
              "<p>193501 rows × 9 columns</p>\n",
              "</div>"
            ],
            "text/plain": [
              "           MONTH       DOW  ORIGIN  ...  COD_PRO PRO_CUM  FLOW\n",
              "0          Marzo  Domenica     108  ...       28    -999   493\n",
              "1         Maggio    Lunedì     300  ...       93    -999    58\n",
              "2       Febbraio    Sabato     108  ...       28    -999    39\n",
              "3         Aprile   Venerdì     109  ...       28   28060   106\n",
              "4         Maggio   Giovedì     300  ...       28   28103   136\n",
              "...          ...       ...     ...  ...      ...     ...   ...\n",
              "193496  Febbraio   Martedì     205  ...     -999    -999    32\n",
              "193497     Marzo   Giovedì     214  ...     -999    -999    32\n",
              "193498  Febbraio   Giovedì     124  ...     -999    -999    40\n",
              "193499    Aprile  Domenica     110  ...       28   28086    36\n",
              "193500    Aprile    Lunedì     124  ...       69    -999    32\n",
              "\n",
              "[193501 rows x 9 columns]"
            ]
          },
          "metadata": {
            "tags": []
          },
          "execution_count": 45
        }
      ]
    },
    {
      "cell_type": "markdown",
      "metadata": {
        "id": "mHbWDmCGjY64"
      },
      "source": [
        "### Challenge accepted? \n",
        "So, convert into datetime the months to check the flow per day within a month  and groupby them for month and day. Then, keeping the month ordering (not also day) try to sort by sum of flows per day"
      ]
    },
    {
      "cell_type": "code",
      "metadata": {
        "id": "LNUKZp04xASz"
      },
      "source": [
        "  #Here's the challenge!\n",
        "\n",
        "day_od1=day_od.replace([ \"Febbraio\", \"Marzo\",\"Aprile\",\"Maggio\",\"Lunedì\",\"Martedì\",\"Mercoledì\",\"Giovedì\", \"Venerdì\", \"Sabato\",\"Domenica\"],\n",
        "                      [\"Feb\",\"Mar\",\"Apr\",\"May\",\"Monday\",\"Tuesday\",\"Wednesday\",\"Thursday\",\"Friday\",\"Saturday\",\"Sunday\"])\n",
        "day_od1[\"MONTH\"]=pd.to_datetime(day_od1[\"MONTH\"], format=\"%b\").dt.month\n",
        "day_od1.groupby([\"MONTH\",\"DOW\"], as_index=False).sum()#.sort_values(\"FLOW\")\n",
        "\n",
        "day_od1[ [\"COD_COUNTRY\",\"COD_PRO\",\"PRO_CUM\"] ]=day_od[ [\"COD_COUNTRY\",\"COD_PRO\",\"PRO_CUM\"] ].astype(\"Int64\") #Int64 handles NaN\n"
      ],
      "execution_count": 46,
      "outputs": []
    },
    {
      "cell_type": "code",
      "metadata": {
        "colab": {
          "base_uri": "https://localhost:8080/",
          "height": 424
        },
        "id": "HUrdanaMjY66",
        "outputId": "76ea98db-a1a9-40f5-f890-1230cc510fb9"
      },
      "source": [
        "#Read distinct_users_day.csv\n",
        "file_name=\"distinct_users_day.csv\"\n",
        "read_users_day=pd.read_csv(file_name,sep=\",\",encoding=\"latin-1\")\n",
        "dist_users_day=pd.DataFrame(read_users_day)\n",
        "\n",
        "dist_users_day[ [\"COD_COUNTRY\",\"COD_PRO\",\"PRO_COM\"] ]=dist_users_day[ [\"COD_COUNTRY\",\"COD_PRO\",\"PRO_COM\"] ].astype(\"Int64\") #Int64 handles NaN\n",
        "\n",
        "#sorting...\n",
        "#dist_users_day[dist_users_day[\"CUST_CLASS\"]==\"foreigner\"].groupby(\"COD_COUNTRY\", as_index=False).sum().sort_values(\"VISITORS\", ascending=False)\n",
        "dist_users_day[dist_users_day[\"CUST_CLASS\"]==\"visitor\"].groupby(\"COD_PRO\", as_index=False).sum().sort_values(\"VISITORS\", ascending=False)"
      ],
      "execution_count": 47,
      "outputs": [
        {
          "output_type": "execute_result",
          "data": {
            "text/html": [
              "<div>\n",
              "<style scoped>\n",
              "    .dataframe tbody tr th:only-of-type {\n",
              "        vertical-align: middle;\n",
              "    }\n",
              "\n",
              "    .dataframe tbody tr th {\n",
              "        vertical-align: top;\n",
              "    }\n",
              "\n",
              "    .dataframe thead th {\n",
              "        text-align: right;\n",
              "    }\n",
              "</style>\n",
              "<table border=\"1\" class=\"dataframe\">\n",
              "  <thead>\n",
              "    <tr style=\"text-align: right;\">\n",
              "      <th></th>\n",
              "      <th>COD_PRO</th>\n",
              "      <th>COD_COUNTRY</th>\n",
              "      <th>PRO_COM</th>\n",
              "      <th>VISITORS</th>\n",
              "    </tr>\n",
              "  </thead>\n",
              "  <tbody>\n",
              "    <tr>\n",
              "      <th>27</th>\n",
              "      <td>28</td>\n",
              "      <td>142746</td>\n",
              "      <td>18038316</td>\n",
              "      <td>1932696</td>\n",
              "    </tr>\n",
              "    <tr>\n",
              "      <th>26</th>\n",
              "      <td>27</td>\n",
              "      <td>67044</td>\n",
              "      <td>8160771</td>\n",
              "      <td>620236</td>\n",
              "    </tr>\n",
              "    <tr>\n",
              "      <th>23</th>\n",
              "      <td>24</td>\n",
              "      <td>148962</td>\n",
              "      <td>16145112</td>\n",
              "      <td>431952</td>\n",
              "    </tr>\n",
              "    <tr>\n",
              "      <th>25</th>\n",
              "      <td>26</td>\n",
              "      <td>135420</td>\n",
              "      <td>15889144</td>\n",
              "      <td>317224</td>\n",
              "    </tr>\n",
              "    <tr>\n",
              "      <th>22</th>\n",
              "      <td>23</td>\n",
              "      <td>125652</td>\n",
              "      <td>13046327</td>\n",
              "      <td>181604</td>\n",
              "    </tr>\n",
              "    <tr>\n",
              "      <th>...</th>\n",
              "      <td>...</td>\n",
              "      <td>...</td>\n",
              "      <td>...</td>\n",
              "      <td>...</td>\n",
              "    </tr>\n",
              "    <tr>\n",
              "      <th>100</th>\n",
              "      <td>102</td>\n",
              "      <td>2220</td>\n",
              "      <td>1020338</td>\n",
              "      <td>428</td>\n",
              "    </tr>\n",
              "    <tr>\n",
              "      <th>99</th>\n",
              "      <td>101</td>\n",
              "      <td>1554</td>\n",
              "      <td>707070</td>\n",
              "      <td>368</td>\n",
              "    </tr>\n",
              "    <tr>\n",
              "      <th>90</th>\n",
              "      <td>91</td>\n",
              "      <td>888</td>\n",
              "      <td>364136</td>\n",
              "      <td>136</td>\n",
              "    </tr>\n",
              "    <tr>\n",
              "      <th>85</th>\n",
              "      <td>86</td>\n",
              "      <td>444</td>\n",
              "      <td>172018</td>\n",
              "      <td>64</td>\n",
              "    </tr>\n",
              "    <tr>\n",
              "      <th>103</th>\n",
              "      <td>105</td>\n",
              "      <td>222</td>\n",
              "      <td>105018</td>\n",
              "      <td>32</td>\n",
              "    </tr>\n",
              "  </tbody>\n",
              "</table>\n",
              "<p>108 rows × 4 columns</p>\n",
              "</div>"
            ],
            "text/plain": [
              "     COD_PRO  COD_COUNTRY   PRO_COM  VISITORS\n",
              "27        28       142746  18038316   1932696\n",
              "26        27        67044   8160771    620236\n",
              "23        24       148962  16145112    431952\n",
              "25        26       135420  15889144    317224\n",
              "22        23       125652  13046327    181604\n",
              "..       ...          ...       ...       ...\n",
              "100      102         2220   1020338       428\n",
              "99       101         1554    707070       368\n",
              "90        91          888    364136       136\n",
              "85        86          444    172018        64\n",
              "103      105          222    105018        32\n",
              "\n",
              "[108 rows x 4 columns]"
            ]
          },
          "metadata": {
            "tags": []
          },
          "execution_count": 47
        }
      ]
    },
    {
      "cell_type": "code",
      "metadata": {
        "colab": {
          "base_uri": "https://localhost:8080/",
          "height": 206
        },
        "id": "D1i6KDfPjY68",
        "outputId": "c3e94a7f-4959-4947-9979-11f478fca46f"
      },
      "source": [
        "\n",
        "# Getting DataFrame for codici_istat_comune.csv\n",
        "file_name=\"codici_istat_comune.csv\"\n",
        "data_cic=pd.read_csv(file_name,sep=\",\",delimiter=',',header=0,quoting=3,escapechar=\"\\\"\",encoding=\"latin-1\")\n",
        "codist_com=pd.DataFrame(data_cic)\n",
        "codist_com[codist_com[\"COD_PRO\"]==29]\n",
        "codist_com.head()"
      ],
      "execution_count": 48,
      "outputs": [
        {
          "output_type": "execute_result",
          "data": {
            "text/html": [
              "<div>\n",
              "<style scoped>\n",
              "    .dataframe tbody tr th:only-of-type {\n",
              "        vertical-align: middle;\n",
              "    }\n",
              "\n",
              "    .dataframe tbody tr th {\n",
              "        vertical-align: top;\n",
              "    }\n",
              "\n",
              "    .dataframe thead th {\n",
              "        text-align: right;\n",
              "    }\n",
              "</style>\n",
              "<table border=\"1\" class=\"dataframe\">\n",
              "  <thead>\n",
              "    <tr style=\"text-align: right;\">\n",
              "      <th></th>\n",
              "      <th>COD_PRO</th>\n",
              "      <th>PRO_COM</th>\n",
              "      <th>COMUNE</th>\n",
              "      <th>COMUNE_CAPOLUOGO</th>\n",
              "    </tr>\n",
              "  </thead>\n",
              "  <tbody>\n",
              "    <tr>\n",
              "      <th>0</th>\n",
              "      <td>1</td>\n",
              "      <td>1001</td>\n",
              "      <td>Agliè</td>\n",
              "      <td>0</td>\n",
              "    </tr>\n",
              "    <tr>\n",
              "      <th>1</th>\n",
              "      <td>1</td>\n",
              "      <td>1002</td>\n",
              "      <td>Airasca</td>\n",
              "      <td>0</td>\n",
              "    </tr>\n",
              "    <tr>\n",
              "      <th>2</th>\n",
              "      <td>1</td>\n",
              "      <td>1003</td>\n",
              "      <td>Ala di Stura</td>\n",
              "      <td>0</td>\n",
              "    </tr>\n",
              "    <tr>\n",
              "      <th>3</th>\n",
              "      <td>1</td>\n",
              "      <td>1004</td>\n",
              "      <td>Albiano d'Ivrea</td>\n",
              "      <td>0</td>\n",
              "    </tr>\n",
              "    <tr>\n",
              "      <th>4</th>\n",
              "      <td>1</td>\n",
              "      <td>1005</td>\n",
              "      <td>Alice Superiore</td>\n",
              "      <td>0</td>\n",
              "    </tr>\n",
              "  </tbody>\n",
              "</table>\n",
              "</div>"
            ],
            "text/plain": [
              "   COD_PRO  PRO_COM           COMUNE  COMUNE_CAPOLUOGO\n",
              "0        1     1001            Agliè                 0\n",
              "1        1     1002          Airasca                 0\n",
              "2        1     1003     Ala di Stura                 0\n",
              "3        1     1004  Albiano d'Ivrea                 0\n",
              "4        1     1005  Alice Superiore                 0"
            ]
          },
          "metadata": {
            "tags": []
          },
          "execution_count": 48
        }
      ]
    },
    {
      "cell_type": "code",
      "metadata": {
        "colab": {
          "base_uri": "https://localhost:8080/",
          "height": 677
        },
        "id": "nz7LhfEfjY6_",
        "outputId": "00ece6d8-28b3-4847-a6c7-3be1f94ab409"
      },
      "source": [
        "# Getting DataFrame for codici_istat_provincia.csv\n",
        "file_name=\"codici_istat_provincia.csv\"\n",
        "data_cip=pd.read_csv(file_name,sep=\",\",header=0,quoting=3,escapechar=\"\\\"\",encoding=\"latin-1\")\n",
        "codist_prov=pd.DataFrame(data_cip)\n",
        "codist_prov.head(20)"
      ],
      "execution_count": 49,
      "outputs": [
        {
          "output_type": "execute_result",
          "data": {
            "text/html": [
              "<div>\n",
              "<style scoped>\n",
              "    .dataframe tbody tr th:only-of-type {\n",
              "        vertical-align: middle;\n",
              "    }\n",
              "\n",
              "    .dataframe tbody tr th {\n",
              "        vertical-align: top;\n",
              "    }\n",
              "\n",
              "    .dataframe thead th {\n",
              "        text-align: right;\n",
              "    }\n",
              "</style>\n",
              "<table border=\"1\" class=\"dataframe\">\n",
              "  <thead>\n",
              "    <tr style=\"text-align: right;\">\n",
              "      <th></th>\n",
              "      <th>COD_REG</th>\n",
              "      <th>COD_PRO</th>\n",
              "      <th>PROVINCIA</th>\n",
              "      <th>PROV_SIGLA</th>\n",
              "    </tr>\n",
              "  </thead>\n",
              "  <tbody>\n",
              "    <tr>\n",
              "      <th>0</th>\n",
              "      <td>1</td>\n",
              "      <td>1</td>\n",
              "      <td>Torino</td>\n",
              "      <td>TO</td>\n",
              "    </tr>\n",
              "    <tr>\n",
              "      <th>1</th>\n",
              "      <td>1</td>\n",
              "      <td>2</td>\n",
              "      <td>Vercelli</td>\n",
              "      <td>VC</td>\n",
              "    </tr>\n",
              "    <tr>\n",
              "      <th>2</th>\n",
              "      <td>1</td>\n",
              "      <td>3</td>\n",
              "      <td>Novara</td>\n",
              "      <td>NO</td>\n",
              "    </tr>\n",
              "    <tr>\n",
              "      <th>3</th>\n",
              "      <td>1</td>\n",
              "      <td>4</td>\n",
              "      <td>Cuneo</td>\n",
              "      <td>CN</td>\n",
              "    </tr>\n",
              "    <tr>\n",
              "      <th>4</th>\n",
              "      <td>1</td>\n",
              "      <td>5</td>\n",
              "      <td>Asti</td>\n",
              "      <td>AT</td>\n",
              "    </tr>\n",
              "    <tr>\n",
              "      <th>5</th>\n",
              "      <td>1</td>\n",
              "      <td>6</td>\n",
              "      <td>Alessandria</td>\n",
              "      <td>AL</td>\n",
              "    </tr>\n",
              "    <tr>\n",
              "      <th>6</th>\n",
              "      <td>1</td>\n",
              "      <td>96</td>\n",
              "      <td>Biella</td>\n",
              "      <td>BI</td>\n",
              "    </tr>\n",
              "    <tr>\n",
              "      <th>7</th>\n",
              "      <td>1</td>\n",
              "      <td>103</td>\n",
              "      <td>Verbano-Cusio-Ossola</td>\n",
              "      <td>VB</td>\n",
              "    </tr>\n",
              "    <tr>\n",
              "      <th>8</th>\n",
              "      <td>2</td>\n",
              "      <td>7</td>\n",
              "      <td>Valle d'Aosta/Vallée d'Aoste</td>\n",
              "      <td>AO</td>\n",
              "    </tr>\n",
              "    <tr>\n",
              "      <th>9</th>\n",
              "      <td>3</td>\n",
              "      <td>12</td>\n",
              "      <td>Varese</td>\n",
              "      <td>VA</td>\n",
              "    </tr>\n",
              "    <tr>\n",
              "      <th>10</th>\n",
              "      <td>3</td>\n",
              "      <td>13</td>\n",
              "      <td>Como</td>\n",
              "      <td>CO</td>\n",
              "    </tr>\n",
              "    <tr>\n",
              "      <th>11</th>\n",
              "      <td>3</td>\n",
              "      <td>14</td>\n",
              "      <td>Sondrio</td>\n",
              "      <td>SO</td>\n",
              "    </tr>\n",
              "    <tr>\n",
              "      <th>12</th>\n",
              "      <td>3</td>\n",
              "      <td>15</td>\n",
              "      <td>Milano</td>\n",
              "      <td>MI</td>\n",
              "    </tr>\n",
              "    <tr>\n",
              "      <th>13</th>\n",
              "      <td>3</td>\n",
              "      <td>16</td>\n",
              "      <td>Bergamo</td>\n",
              "      <td>BG</td>\n",
              "    </tr>\n",
              "    <tr>\n",
              "      <th>14</th>\n",
              "      <td>3</td>\n",
              "      <td>17</td>\n",
              "      <td>Brescia</td>\n",
              "      <td>BS</td>\n",
              "    </tr>\n",
              "    <tr>\n",
              "      <th>15</th>\n",
              "      <td>3</td>\n",
              "      <td>18</td>\n",
              "      <td>Pavia</td>\n",
              "      <td>PV</td>\n",
              "    </tr>\n",
              "    <tr>\n",
              "      <th>16</th>\n",
              "      <td>3</td>\n",
              "      <td>19</td>\n",
              "      <td>Cremona</td>\n",
              "      <td>CR</td>\n",
              "    </tr>\n",
              "    <tr>\n",
              "      <th>17</th>\n",
              "      <td>3</td>\n",
              "      <td>20</td>\n",
              "      <td>Mantova</td>\n",
              "      <td>MN</td>\n",
              "    </tr>\n",
              "    <tr>\n",
              "      <th>18</th>\n",
              "      <td>3</td>\n",
              "      <td>97</td>\n",
              "      <td>Lecco</td>\n",
              "      <td>LC</td>\n",
              "    </tr>\n",
              "    <tr>\n",
              "      <th>19</th>\n",
              "      <td>3</td>\n",
              "      <td>98</td>\n",
              "      <td>Lodi</td>\n",
              "      <td>LO</td>\n",
              "    </tr>\n",
              "  </tbody>\n",
              "</table>\n",
              "</div>"
            ],
            "text/plain": [
              "    COD_REG  COD_PRO                     PROVINCIA PROV_SIGLA\n",
              "0         1        1                        Torino         TO\n",
              "1         1        2                      Vercelli         VC\n",
              "2         1        3                        Novara         NO\n",
              "3         1        4                         Cuneo         CN\n",
              "4         1        5                          Asti         AT\n",
              "5         1        6                   Alessandria         AL\n",
              "6         1       96                        Biella         BI\n",
              "7         1      103          Verbano-Cusio-Ossola         VB\n",
              "8         2        7  Valle d'Aosta/Vallée d'Aoste         AO\n",
              "9         3       12                        Varese         VA\n",
              "10        3       13                          Como         CO\n",
              "11        3       14                       Sondrio         SO\n",
              "12        3       15                        Milano         MI\n",
              "13        3       16                       Bergamo         BG\n",
              "14        3       17                       Brescia         BS\n",
              "15        3       18                         Pavia         PV\n",
              "16        3       19                       Cremona         CR\n",
              "17        3       20                       Mantova         MN\n",
              "18        3       97                         Lecco         LC\n",
              "19        3       98                          Lodi         LO"
            ]
          },
          "metadata": {
            "tags": []
          },
          "execution_count": 49
        }
      ]
    },
    {
      "cell_type": "markdown",
      "metadata": {
        "id": "QIT5-RtivjFh"
      },
      "source": [
        "###Warning: mancano tre provincie\n",
        "\n",
        "codist_prov.sum() e poi [wiki](https://it.wikipedia.org/wiki/Regioni_d%27Italia)"
      ]
    },
    {
      "cell_type": "code",
      "metadata": {
        "colab": {
          "base_uri": "https://localhost:8080/",
          "height": 175
        },
        "id": "dqwtlXiUjY7E",
        "outputId": "3cd42b56-c663-4a10-aadf-f0991621b240"
      },
      "source": [
        "# Getting DataFrame for codici_nazioni.csv\n",
        "import csv\n",
        "file_name=\"codici_nazioni.csv\"\n",
        "data_cin=pd.read_csv(file_name,delimiter=',',header=0,quoting=2, #quoting=2 \"Non-Numerical value ex. \"Colombia\";\n",
        "                                error_bad_lines=True,encoding=\"utf-16\",quotechar = '\"',escapechar='\\r')\n",
        "codist_naz=pd.DataFrame(data_cin)\n",
        "\n",
        "data_cin[ [\"COD_COUNTRY\"] ]=data_cin[ [\"COD_COUNTRY\"] ].astype(\"Int64\") #Int64 handles NaN\n",
        "\n",
        "codist_naz[108:112]"
      ],
      "execution_count": 50,
      "outputs": [
        {
          "output_type": "execute_result",
          "data": {
            "text/html": [
              "<div>\n",
              "<style scoped>\n",
              "    .dataframe tbody tr th:only-of-type {\n",
              "        vertical-align: middle;\n",
              "    }\n",
              "\n",
              "    .dataframe tbody tr th {\n",
              "        vertical-align: top;\n",
              "    }\n",
              "\n",
              "    .dataframe thead th {\n",
              "        text-align: right;\n",
              "    }\n",
              "</style>\n",
              "<table border=\"1\" class=\"dataframe\">\n",
              "  <thead>\n",
              "    <tr style=\"text-align: right;\">\n",
              "      <th></th>\n",
              "      <th>COD_COUNTRY</th>\n",
              "      <th>COUNTRY_NAME_IT</th>\n",
              "    </tr>\n",
              "  </thead>\n",
              "  <tbody>\n",
              "    <tr>\n",
              "      <th>108</th>\n",
              "      <td>658</td>\n",
              "      <td>Isola di Sant'Elena, Ascension e Tristan de Cugna</td>\n",
              "    </tr>\n",
              "    <tr>\n",
              "      <th>109</th>\n",
              "      <td>732</td>\n",
              "      <td>Colombia</td>\n",
              "    </tr>\n",
              "    <tr>\n",
              "      <th>110</th>\n",
              "      <td>740</td>\n",
              "      <td>Ecuador</td>\n",
              "    </tr>\n",
              "    <tr>\n",
              "      <th>111</th>\n",
              "      <td>746</td>\n",
              "      <td>Suriname</td>\n",
              "    </tr>\n",
              "  </tbody>\n",
              "</table>\n",
              "</div>"
            ],
            "text/plain": [
              "     COD_COUNTRY                                    COUNTRY_NAME_IT\n",
              "108          658  Isola di Sant'Elena, Ascension e Tristan de Cugna\n",
              "109          732                                           Colombia\n",
              "110          740                                            Ecuador\n",
              "111          746                                           Suriname"
            ]
          },
          "metadata": {
            "tags": []
          },
          "execution_count": 50
        }
      ]
    },
    {
      "cell_type": "code",
      "metadata": {
        "colab": {
          "base_uri": "https://localhost:8080/"
        },
        "id": "3TWoswuKjY7G",
        "outputId": "2560fcb5-fa52-4b51-b488-894db06b7c26"
      },
      "source": [
        "#Getting DataFrame for veneto.txt\n",
        "file_name=\"Veneto.txt\"\n",
        "data_veneto=pd.read_csv(file_name,delimiter=';',decimal=\",\",header=0,quoting=2,quotechar = '\"',encoding=\"utf8\",error_bad_lines=False)\n",
        "codist_ven=pd.DataFrame(data_veneto)\n",
        "\n",
        "codist_ven.head()\n",
        "len(codist_ven)"
      ],
      "execution_count": 51,
      "outputs": [
        {
          "output_type": "stream",
          "text": [
            "b'Skipping line 41944: expected 5 fields, saw 6\\nSkipping line 62915: expected 5 fields, saw 7\\nSkipping line 125831: expected 5 fields, saw 6\\n'\n",
            "b'Skipping line 146802: expected 5 fields, saw 7\\nSkipping line 188745: expected 5 fields, saw 7\\n'\n",
            "b'Skipping line 272631: expected 5 fields, saw 7\\nSkipping line 293602: expected 5 fields, saw 6\\nSkipping line 335498: expected 5 fields, saw 8\\n'\n",
            "b'Skipping line 419383: expected 5 fields, saw 8\\nSkipping line 481175: expected 5 fields, saw 9\\n'\n",
            "b'Skipping line 543231: expected 5 fields, saw 6\\nSkipping line 604641: expected 5 fields, saw 7\\nSkipping line 625029: expected 5 fields, saw 7\\n'\n",
            "b'Skipping line 665854: expected 5 fields, saw 6\\nSkipping line 686687: expected 5 fields, saw 7\\n'\n",
            "b'Skipping line 788948: expected 5 fields, saw 6\\nSkipping line 809919: expected 5 fields, saw 6\\nSkipping line 871223: expected 5 fields, saw 9\\n'\n",
            "b'Skipping line 933240: expected 5 fields, saw 6\\nSkipping line 953502: expected 5 fields, saw 7\\nSkipping line 994794: expected 5 fields, saw 7\\nSkipping line 1035932: expected 5 fields, saw 7\\n'\n",
            "b'Skipping line 1097639: expected 5 fields, saw 9\\nSkipping line 1178446: expected 5 fields, saw 7\\n'\n",
            "b'Skipping line 1198635: expected 5 fields, saw 7\\n'\n",
            "/usr/local/lib/python3.6/dist-packages/IPython/core/interactiveshell.py:2718: DtypeWarning: Columns (2,4) have mixed types.Specify dtype option on import or set low_memory=False.\n",
            "  interactivity=interactivity, compiler=compiler, result=result)\n"
          ],
          "name": "stderr"
        },
        {
          "output_type": "execute_result",
          "data": {
            "text/plain": [
              "4179938"
            ]
          },
          "metadata": {
            "tags": []
          },
          "execution_count": 51
        }
      ]
    },
    {
      "cell_type": "markdown",
      "metadata": {
        "id": "SAIVxNrgn1Pb"
      },
      "source": [
        "codist_ven[\"Destinazione\"]=codist_ven[\"Destinazione\" ].str.replace(\",\",\".\")\n",
        "idx=codist_ven[codist_ven[\"Destinazione\"]==\"23053.8052.00\"].index[0] #209709\n",
        "codist_ven=codist_ven.drop(idx, axis=0)\n",
        "idx=codist_ven[codist_ven[\"Destinazione\"]==\"29006..89\"].index[0] #209709\n",
        "codist_ven=codist_ven.drop(idx, axis=0)\n",
        "codist_ven[\"Destinazione\"]=codist_ven[\"Destinazione\"].astype(\"float\")"
      ]
    },
    {
      "cell_type": "markdown",
      "metadata": {
        "id": "sxXx23M5p91N"
      },
      "source": [
        "#Point 2: Rank foreigner visitors\n",
        "\n",
        "## Ranking of visitors from foreign countries\n",
        "\n",
        "based on the number of total of visitors per each country, create a ranked plot of the first 20 countries with\n",
        "the most visitors"
      ]
    },
    {
      "cell_type": "code",
      "metadata": {
        "id": "tQvgCxV5jY7I",
        "colab": {
          "base_uri": "https://localhost:8080/",
          "height": 206
        },
        "outputId": "cb42f81e-2098-4bba-97d6-db1f6feb1977"
      },
      "source": [
        "# read COD_COUNTRY for foreigner, then sum whole visitors\n",
        "mask=dist_users_day[\"CUST_CLASS\"].str.contains('foreigner')\n",
        "dist_users_day_1=dist_users_day[mask]\n",
        "dist_users_day_1=dist_users_day_1.groupby([\"COD_COUNTRY\"],as_index=False)['VISITORS'].sum()\n",
        "ranked_20=dist_users_day_1.sort_values( \"VISITORS\",ascending=False, ignore_index=True).nlargest(20, \"VISITORS\")\n",
        "ranked_20.head()"
      ],
      "execution_count": 52,
      "outputs": [
        {
          "output_type": "execute_result",
          "data": {
            "text/html": [
              "<div>\n",
              "<style scoped>\n",
              "    .dataframe tbody tr th:only-of-type {\n",
              "        vertical-align: middle;\n",
              "    }\n",
              "\n",
              "    .dataframe tbody tr th {\n",
              "        vertical-align: top;\n",
              "    }\n",
              "\n",
              "    .dataframe thead th {\n",
              "        text-align: right;\n",
              "    }\n",
              "</style>\n",
              "<table border=\"1\" class=\"dataframe\">\n",
              "  <thead>\n",
              "    <tr style=\"text-align: right;\">\n",
              "      <th></th>\n",
              "      <th>COD_COUNTRY</th>\n",
              "      <th>VISITORS</th>\n",
              "    </tr>\n",
              "  </thead>\n",
              "  <tbody>\n",
              "    <tr>\n",
              "      <th>0</th>\n",
              "      <td>208</td>\n",
              "      <td>129672</td>\n",
              "    </tr>\n",
              "    <tr>\n",
              "      <th>1</th>\n",
              "      <td>228</td>\n",
              "      <td>116884</td>\n",
              "    </tr>\n",
              "    <tr>\n",
              "      <th>2</th>\n",
              "      <td>262</td>\n",
              "      <td>109176</td>\n",
              "    </tr>\n",
              "    <tr>\n",
              "      <th>3</th>\n",
              "      <td>460</td>\n",
              "      <td>107796</td>\n",
              "    </tr>\n",
              "    <tr>\n",
              "      <th>4</th>\n",
              "      <td>232</td>\n",
              "      <td>96776</td>\n",
              "    </tr>\n",
              "  </tbody>\n",
              "</table>\n",
              "</div>"
            ],
            "text/plain": [
              "   COD_COUNTRY  VISITORS\n",
              "0          208    129672\n",
              "1          228    116884\n",
              "2          262    109176\n",
              "3          460    107796\n",
              "4          232     96776"
            ]
          },
          "metadata": {
            "tags": []
          },
          "execution_count": 52
        }
      ]
    },
    {
      "cell_type": "code",
      "metadata": {
        "id": "dXAAEVZfDliX"
      },
      "source": [
        "# Ranked Countries\n",
        "cod_coun_ranked_20=[\"Francia\",\"Svizzera\",\"Germania\",\"Cina\",\"Austria\",\"Spagna\",\"Paesi Bassi\",\n",
        "\"Stati Uniti d'America\",\"Romania\",\"Gran Bretagna\",\"Russia\",\"Ungheria\",\"Croazia\",\"Slovenia\",\n",
        "\"Belgio\",\"Bulgaria\",\"Polonia\",\"Giappone\",\"Repubblica Ceca\",\"Messico\"]\n",
        "#storing visitor and country names"
      ],
      "execution_count": 53,
      "outputs": []
    },
    {
      "cell_type": "code",
      "metadata": {
        "id": "4lcZabhJjY7J",
        "colab": {
          "base_uri": "https://localhost:8080/",
          "height": 439
        },
        "outputId": "72057768-6244-41a0-c28d-113ce614af1d"
      },
      "source": [
        "#plotting\n",
        "plt.bar(cod_coun_ranked_20,ranked_20[\"VISITORS\"])\n",
        "plt.xticks(rotation='60') # vertical label alignment\n",
        "plt.rcParams['figure.figsize'] = [20, 5] # 8 by 6 inches\n",
        "plt.xlabel('Countries', fontsize=12)\n",
        "plt.ylabel('Number of Visitors', fontsize=15)\n",
        "plt.title('Ranking of visitors from foreign countries',fontsize=15)\n",
        "plt.show()"
      ],
      "execution_count": 54,
      "outputs": [
        {
          "output_type": "display_data",
          "data": {
            "image/png": "[encoded data removed]",
            "text/plain": [
              "<Figure size 1440x360 with 1 Axes>"
            ]
          },
          "metadata": {
            "tags": [],
            "needs_background": "dark"
          }
        }
      ]
    },
    {
      "cell_type": "markdown",
      "metadata": {
        "id": "ljcVnkE6qFj_"
      },
      "source": [
        "#Point 3: Rank Italian visitors\n",
        "\n",
        "##Ranking of Italian visitors by province weighted by the number of inhabitants\n",
        "\n",
        "Based on the number of total visitors per Italian province, create a ranked plot of the first 20 provinces with the most visitors taking into account the number of inhabitants."
      ]
    },
    {
      "cell_type": "code",
      "metadata": {
        "id": "rXuUNbz_jY7K",
        "colab": {
          "base_uri": "https://localhost:8080/",
          "height": 269
        },
        "outputId": "dab05fcd-3e61-4d76-a549-b30f08c4e0e5"
      },
      "source": [
        "# Assignment 3\n",
        "\n",
        "# read COD_PRO(province codes) for Italian visitors, then sum whole visitors\n",
        "mask=dist_users_day[\"CUST_CLASS\"].str.contains('visitor')\n",
        "dist_users_day_2=dist_users_day[mask].groupby(['COD_PRO'],as_index=False)['VISITORS'].sum()\n",
        "sorted_dist_users_day_2=dist_users_day_2.sort_values( \"VISITORS\",ascending=False,ignore_index=True).head(n=20) # sorting as before\n",
        "sorted_dist_users_day_2.head(7)"
      ],
      "execution_count": 55,
      "outputs": [
        {
          "output_type": "execute_result",
          "data": {
            "text/html": [
              "<div>\n",
              "<style scoped>\n",
              "    .dataframe tbody tr th:only-of-type {\n",
              "        vertical-align: middle;\n",
              "    }\n",
              "\n",
              "    .dataframe tbody tr th {\n",
              "        vertical-align: top;\n",
              "    }\n",
              "\n",
              "    .dataframe thead th {\n",
              "        text-align: right;\n",
              "    }\n",
              "</style>\n",
              "<table border=\"1\" class=\"dataframe\">\n",
              "  <thead>\n",
              "    <tr style=\"text-align: right;\">\n",
              "      <th></th>\n",
              "      <th>COD_PRO</th>\n",
              "      <th>VISITORS</th>\n",
              "    </tr>\n",
              "  </thead>\n",
              "  <tbody>\n",
              "    <tr>\n",
              "      <th>0</th>\n",
              "      <td>28</td>\n",
              "      <td>1932696</td>\n",
              "    </tr>\n",
              "    <tr>\n",
              "      <th>1</th>\n",
              "      <td>27</td>\n",
              "      <td>620236</td>\n",
              "    </tr>\n",
              "    <tr>\n",
              "      <th>2</th>\n",
              "      <td>24</td>\n",
              "      <td>431952</td>\n",
              "    </tr>\n",
              "    <tr>\n",
              "      <th>3</th>\n",
              "      <td>26</td>\n",
              "      <td>317224</td>\n",
              "    </tr>\n",
              "    <tr>\n",
              "      <th>4</th>\n",
              "      <td>23</td>\n",
              "      <td>181604</td>\n",
              "    </tr>\n",
              "    <tr>\n",
              "      <th>5</th>\n",
              "      <td>15</td>\n",
              "      <td>177380</td>\n",
              "    </tr>\n",
              "    <tr>\n",
              "      <th>6</th>\n",
              "      <td>29</td>\n",
              "      <td>163464</td>\n",
              "    </tr>\n",
              "  </tbody>\n",
              "</table>\n",
              "</div>"
            ],
            "text/plain": [
              "   COD_PRO  VISITORS\n",
              "0       28   1932696\n",
              "1       27    620236\n",
              "2       24    431952\n",
              "3       26    317224\n",
              "4       23    181604\n",
              "5       15    177380\n",
              "6       29    163464"
            ]
          },
          "metadata": {
            "tags": []
          },
          "execution_count": 55
        }
      ]
    },
    {
      "cell_type": "code",
      "metadata": {
        "id": "rpGgp40_Wi0G",
        "colab": {
          "base_uri": "https://localhost:8080/",
          "height": 403
        },
        "outputId": "ffed7b61-22b8-4773-f436-c45819990aa2"
      },
      "source": [
        "cod_pro_dist_users_day_2=[\"PADOVA\",\"VENEZIA\",\"VICENZA\",\"TREVISO\",\"VERONA\",\"MILANO\",\"ROVIGO\",\"ROMA\",\"BOLOGNA\",\"TRENTO\",\"FERRARA\",\"UDINE\",\"BELLUNO\",\"TORINO\",\"PORDENONE\",\"BRESCIA\",\"MODENA\",\"MB\",\"MANTOVA\",\"BOLZANO\"]\n",
        "\n",
        "#plotting\n",
        "plt.rcParams['figure.figsize'] = [20, 5] #10 by 5 inches\n",
        "plt.bar(cod_pro_dist_users_day_2,sorted_dist_users_day_2[\"VISITORS\"]);\n",
        "plt.xticks(rotation='60');\n",
        "plt.xlabel('Countries', fontsize=12);\n",
        "plt.ylabel('Number of Visitors', fontsize=12);\n",
        "plt.title('Ranking of Italian visitors by province per day',fontsize=12);"
      ],
      "execution_count": 58,
      "outputs": [
        {
          "output_type": "display_data",
          "data": {
            "image/png": "[encoded data removed]",
            "text/plain": [
              "<Figure size 1440x360 with 1 Axes>"
            ]
          },
          "metadata": {
            "tags": [],
            "needs_background": "dark"
          }
        }
      ]
    },
    {
      "cell_type": "markdown",
      "metadata": {
        "id": "3wsTvFZxpSZx"
      },
      "source": [
        "#Point 4: Study of the visitors' fluxes\n",
        "\n",
        "Let's assume to be asked to provide indications of\n",
        "how to invest resources to improve the mobility toward Padova. Defined the\n",
        "three main directions of visitors and commuter getting to Padova by the Italian\n",
        "highways (sud: A13 toward Bologna-Roma / west: A4 toward Milano-Torino /\n",
        "north-east: A4 toward Venice-Trieste), evaluate which of the three directions\n",
        "has to be prioritized:\n"
      ]
    },
    {
      "cell_type": "markdown",
      "metadata": {
        "id": "mv_mdoB4q_Im"
      },
      "source": [
        "##Mid-range mobility\n",
        "Based on the number of visitors/commuters from the nearby regions only\n",
        "Nearby Regions: Lombardia, Emilia Romagna, Friuli Venezia Giulia"
      ]
    },
    {
      "cell_type": "markdown",
      "metadata": {
        "id": "A-PjKamqEnLZ"
      },
      "source": [
        "## mancano province 5, 9,..."
      ]
    },
    {
      "cell_type": "code",
      "metadata": {
        "id": "KklTipQPtWtH"
      },
      "source": [
        "#the 1st pedant way:\n",
        "commuters_flow=day_od[day_od[\"CUST_CLASS\"]=='visitor'].groupby([\"COD_PRO\"],as_index=True).sum() # selected visitor and sum over flow\n",
        "\n",
        "#sud\n",
        "rovigo_commuters=commuters_flow.iloc[[27]] # 27th row of dataframe is Rovigo\n",
        "ferrera_commuters=commuters_flow.iloc[[36]] # 36th row of dataframe is Ferrara\n",
        "bologna_commuters=commuters_flow.iloc[[35]] # 35th row of dataframe is Bologna\n",
        "rome_commuters=commuters_flow.iloc[[54]] # 54st row of dataframe is Rome\n",
        "#west\n",
        "vicenza_commuters=commuters_flow.iloc[[22]] # 22nd row of dataframe is Vicenza\n",
        "verona_commuters=commuters_flow.iloc[[21]] # 21st row of dataframe is Verona\n",
        "brescia_commuters=commuters_flow.iloc[[15]] # 15th row of dataframe is Brescia\n",
        "bergamo_commuters=commuters_flow.iloc[[14]] # 14th row of dataframe is Bergamo\n",
        "torino_commuters=commuters_flow.iloc[[1]] # 1st row of dataframe is Torino\n",
        "milano_commuters=commuters_flow.iloc[[13]] # 13th row of dataframe is Milano\n",
        "#east\n",
        "treviso_commuters=commuters_flow.iloc[[24]] # 24th row of dataframe is Treviso\n",
        "venezia_commuters=commuters_flow.iloc[[25]] # 25th row of dataframe is Venice\n",
        "trieste_commuters=commuters_flow.iloc[[30]] # 30th row of dataframe is Trieste\n",
        "\n",
        "a4_highway_milan_torino_commuters = (vicenza_commuters.FLOW.iloc[0]) + (verona_commuters.FLOW.iloc[0]) + (brescia_commuters.FLOW.iloc[0])  \n",
        "a4_highway_venice_trieste_commuters = (venezia_commuters.FLOW.iloc[0]) + (treviso_commuters.FLOW.iloc[0])\n",
        "a13_highway_bologna_rome_commuters = (bologna_commuters.FLOW.iloc[0]) + (ferrera_commuters.FLOW.iloc[0]) + (rovigo_commuters.FLOW.iloc[0])\n",
        "\n",
        "highways_commuters=[a4_highway_milan_torino_commuters,a4_highway_venice_trieste_commuters,a13_highway_bologna_rome_commuters]\n",
        "highway_names=[\"A4-West\",\"A4-East\",\"A13-Sud\"]"
      ],
      "execution_count": 59,
      "outputs": []
    },
    {
      "cell_type": "code",
      "metadata": {
        "id": "-SWNdWnRtY5q",
        "colab": {
          "base_uri": "https://localhost:8080/",
          "height": 355
        },
        "outputId": "1594cbad-ab84-4419-f212-0aff5f95f036"
      },
      "source": [
        "\n",
        "plt.bar(highway_names,highways_commuters);\n",
        "plt.xlabel('Highways', fontsize=14);\n",
        "plt.ylabel('Flow', fontsize=14);\n",
        "plt.title('Highway Flows of Padova',fontsize=14);"
      ],
      "execution_count": 60,
      "outputs": [
        {
          "output_type": "display_data",
          "data": {
            "image/png": "[encoded data removed]",
            "text/plain": [
              "<Figure size 1440x360 with 1 Axes>"
            ]
          },
          "metadata": {
            "tags": [],
            "needs_background": "dark"
          }
        }
      ]
    },
    {
      "cell_type": "code",
      "metadata": {
        "id": "rniE55SKFoYB"
      },
      "source": [
        "#2nd more clever:\n",
        "\n",
        "commuters=day_od[day_od[\"CUST_CLASS\"]=='visitor'].groupby([\"COD_PRO\"],as_index=True).sum()#.sort_values(\"FLOW\", ascending=True)\n",
        "# Select Visitor(commuters) only + sorted by COD_PRO and FLOWs summed\n",
        "\n",
        "#drop province -999\n",
        "#idx1=commuters[commuters.index==-999].index[0]\n",
        "#commuters.drop(idx1, inplace=True)\n",
        "\n",
        "\n",
        "commuters.loc[[29]] #better to format in this way"
      ],
      "execution_count": null,
      "outputs": []
    },
    {
      "cell_type": "markdown",
      "metadata": {
        "id": "1g8lG9fLJzB1"
      },
      "source": [
        "## Part 4.2: weekend visits VS working visits\n",
        "Consider the provinces located on the three directions that are mostly contributing to the flow of weekend visitors and working daily commuters by performing a more detailed study of the fluxes based on the day of the week"
      ]
    },
    {
      "cell_type": "code",
      "metadata": {
        "id": "mB-HMfqjKboS"
      },
      "source": [
        "#4.2\n",
        "df_flux_2=day_od[day_od.CUST_CLASS.str.contains(' '.join(['visitor']))]\n",
        "# getting values of all cities on the south-west-east\n",
        "week=df_flux_2[(df_flux_2['COD_PRO'] == 27)|\n",
        "                  (df_flux_2['COD_PRO'] == 32)|\n",
        "                  (df_flux_2['COD_PRO'] == 37)|\n",
        "                  (df_flux_2['COD_PRO'] == 58)|\n",
        "                  (df_flux_2['COD_PRO'] == 15)|\n",
        "                  (df_flux_2['COD_PRO'] == 29)|\n",
        "                  (df_flux_2['COD_PRO'] == 38)|\n",
        "                  (df_flux_2['COD_PRO'] == 48)|\n",
        "                  (df_flux_2['COD_PRO'] == 24)|\n",
        "                  (df_flux_2['COD_PRO'] == 23)|\n",
        "                  (df_flux_2['COD_PRO'] == 17)|\n",
        "                  (df_flux_2['COD_PRO'] == 16)|\n",
        "                  (df_flux_2['COD_PRO'] == 26)|\n",
        "                  (df_flux_2['COD_PRO'] == 1)]\n",
        "\n",
        "highway_namess=[\"A4-Milan-Torino\",\"A4-Venice-Trieste\",\"A13-Bologna-Rome\"]\n",
        "\n",
        "#week.groupby(\"COD_PRO\").sum()\n",
        "\n",
        "#sorted provinces grouped by days\n",
        "week_sorted=week.groupby([\"DOW\",\"COD_PRO\"],as_index=False)['FLOW'].sum()\n",
        "\n",
        "#weekday VS weekend------------------------------------------------------\n",
        "weekend=week_sorted[(week_sorted[\"DOW\"]==\"Sabato\") |\n",
        "                    (week_sorted[\"DOW\"]==\"Domenica\") ]\n",
        "\n",
        "weekday=week_sorted[(week_sorted[\"DOW\"]!=\"Sabato\") |\n",
        "                    (week_sorted[\"DOW\"]!=\"Domenica\") ]\n",
        "\n",
        "weekend=weekend.groupby([\"COD_PRO\"],as_index=False)[\"FLOW\"].sum()\n",
        "weekday=weekday.groupby([\"COD_PRO\"],as_index=False)[\"FLOW\"].sum()\n",
        "\n",
        "weekday"
      ],
      "execution_count": null,
      "outputs": []
    },
    {
      "cell_type": "code",
      "metadata": {
        "id": "HKmwrHC5J4YG"
      },
      "source": [
        "day_monday=week_sorted[(week_sorted[\"DOW\"]==\"Lunedì\")]\n",
        "day_tuesday=week_sorted[(week_sorted[\"DOW\"]==\"Martedì\")]\n",
        "day_wednesday=week_sorted[(week_sorted[\"DOW\"]==\"Mercoledì\")]\n",
        "day_thursday=week_sorted[(week_sorted[\"DOW\"]==\"Giovedì\")]\n",
        "day_friday=week_sorted[(week_sorted[\"DOW\"]==\"Venerdì\")]\n",
        "day_saturday=week_sorted[(week_sorted[\"DOW\"]==\"Sabato\")]\n",
        "day_sunday=week_sorted[(week_sorted[\"DOW\"]==\"Domenica\")]\n",
        "\n",
        "\n",
        "# weekday and weekend for 3 directions\n",
        "a4_west_weekday=weekday.FLOW.iloc[:5].sum() # first 5 entries corresponds to a4_west\n",
        "a4_west_weekend=weekend.FLOW.iloc[:5].sum()\n",
        "\n",
        "a4_east_weekday=weekday.FLOW.iloc[[6,7,9]].sum()# 6th, 7th, 9th entries corresponds to a4_east\n",
        "a4_east_weekend=weekend.FLOW.iloc[[6,7,9]].sum()\n",
        "\n",
        "a13_weekday=weekday.FLOW.iloc[[8,10,11,12,13]].sum() # 8th, 10th, 11th, 12th, 13th entries corresponds to a13\n",
        "a13_weekend=weekend.FLOW.iloc[[8,10,11,12,13]].sum()\n",
        "\n",
        "#this is for the final plot required\n",
        "weekend_highways=[a4_west_weekend,a4_east_weekend,a13_weekend]\n",
        "weekday_highways=[a4_west_weekday,a4_east_weekday,a13_weekday]\n",
        "\n",
        "# plotting phase\n",
        "\n",
        "plt.rcParams['figure.figsize'] = [16, 4] # 14 by 4 inches\n",
        "\n",
        "fig, (ax1, ax2) = plt.subplots(1,2);\n",
        "\n",
        "fig.suptitle('Weekday and Weekend');\n",
        "ax1.set_title(\"Weekday\")\n",
        "ax1.set_ylabel('Visitors')\n",
        "ax2.set_ylabel('Visitors')\n",
        "ax2.set_title(\"Weekend\")\n",
        "\n",
        "\n",
        "ax1.bar(highway_namess, weekday_highways);\n",
        "ax2.bar(highway_namess, weekend_highways);"
      ],
      "execution_count": null,
      "outputs": []
    },
    {
      "cell_type": "markdown",
      "metadata": {
        "id": "UagZiCvoyp5U"
      },
      "source": [
        "## MISCELLANEA: day by day for 3 directions\n"
      ]
    },
    {
      "cell_type": "code",
      "metadata": {
        "id": "eolowPFAym7y"
      },
      "source": [
        "days_of_week=['Monday','Tuesday','Wednesday','Thursday','Friday','Saturday','Sunday']\n",
        "\n",
        "#a4_west\n",
        "a4_west_monday=day_monday.FLOW.iloc[:5].sum()\n",
        "a4_west_tuesday=day_tuesday.FLOW.iloc[:5].sum()\n",
        "a4_west_wednesday=day_wednesday.FLOW.iloc[:5].sum()\n",
        "a4_west_thursday=day_thursday.FLOW.iloc[:5].sum()\n",
        "a4_west_friday=day_friday.FLOW.iloc[:5].sum()\n",
        "a4_west_saturday=day_saturday.FLOW.iloc[:5].sum()\n",
        "a4_west_sunday=day_sunday.FLOW.iloc[:5].sum()\n",
        "\n",
        "#a4_east\n",
        "a4_east_monday=day_monday.FLOW.iloc[[6,7,9]].sum()\n",
        "a4_east_tuesday=day_tuesday.FLOW.iloc[[6,7,9]].sum()\n",
        "a4_east_wednesday=day_wednesday.FLOW.iloc[[6,7,9]].sum()\n",
        "a4_east_thursday=day_thursday.FLOW.iloc[[6,7,9]].sum()\n",
        "a4_east_friday=day_friday.FLOW.iloc[[6,7,9]].sum()\n",
        "a4_east_saturday=day_saturday.FLOW.iloc[[6,7,9]].sum()\n",
        "a4_east_sunday=day_sunday.FLOW.iloc[[6,7,9]].sum()\n",
        "\n",
        "#a13_south\n",
        "a13_monday=day_monday.FLOW.iloc[[8,10,11,12,13]].sum()\n",
        "a13_tuesday=day_tuesday.FLOW.iloc[[8,10,11,12,13]].sum()\n",
        "a13_wednesday=day_wednesday.FLOW.iloc[[8,10,11,12,13]].sum()\n",
        "a13_thursday=day_thursday.FLOW.iloc[[8,10,11,12,13]].sum()\n",
        "a13_friday=day_friday.FLOW.iloc[[8,10,11,12,13]].sum()\n",
        "a13_saturday=day_saturday.FLOW.iloc[[8,10,11,12,13]].sum()\n",
        "a13_sunday=day_sunday.FLOW.iloc[[8,10,11,12,13]].sum()\n",
        "\n",
        "#all togheter now\n",
        "a4_west_days=[a4_west_monday,a4_west_tuesday,a4_west_wednesday,a4_west_thursday,a4_west_friday,a4_west_saturday,a4_west_sunday]\n",
        "a4_east_days=[a4_east_monday,a4_east_tuesday,a4_east_wednesday,a4_east_thursday,a4_east_friday,a4_east_saturday,a4_east_sunday]\n",
        "a13_days=[a13_monday,a13_tuesday,a13_wednesday,a13_thursday,a13_friday,a13_saturday,a13_sunday]\n",
        "\n",
        "highways_monday=[a4_west_monday,a4_east_monday,a13_monday]\n",
        "highways_tuesday=[a4_west_tuesday,a4_east_tuesday,a13_tuesday]\n",
        "highways_wednesday=[a4_west_wednesday,a4_east_wednesday,a13_wednesday]\n",
        "highways_thursday=[a4_west_thursday,a4_east_thursday,a13_thursday]\n",
        "highways_friday=[a4_west_friday,a4_east_friday,a13_friday]\n",
        "\n",
        "fig, ax1= plt.subplots();\n",
        "\n",
        "fig.suptitle('Day by day');\n",
        "ax1.set_xlabel('Visitors')\n",
        "ax1.set_ylabel('Visitors')\n",
        "\n",
        "ax1.bar(days_of_week, a4_west_days);"
      ],
      "execution_count": null,
      "outputs": []
    },
    {
      "cell_type": "code",
      "metadata": {
        "id": "qf-AvMizKEUy"
      },
      "source": [
        ""
      ],
      "execution_count": null,
      "outputs": []
    }
  ]
}