{
 "cells": [
  {
   "cell_type": "code",
   "execution_count": 506,
   "metadata": {},
   "outputs": [],
   "source": [
    "#Importing the required libraries.\n",
    "import pandas as pd #for dataframes and reading csv files.\n",
    "import numpy as np # for math operations(sqrt)\n",
    "import matplotlib.pyplot as plt #for plotting the graphs\n",
    "\n"
   ]
  },
  {
   "cell_type": "code",
   "execution_count": 507,
   "metadata": {},
   "outputs": [
    {
     "data": {
      "text/html": [
       "<div>\n",
       "<style scoped>\n",
       "    .dataframe tbody tr th:only-of-type {\n",
       "        vertical-align: middle;\n",
       "    }\n",
       "\n",
       "    .dataframe tbody tr th {\n",
       "        vertical-align: top;\n",
       "    }\n",
       "\n",
       "    .dataframe thead th {\n",
       "        text-align: right;\n",
       "    }\n",
       "</style>\n",
       "<table border=\"1\" class=\"dataframe\">\n",
       "  <thead>\n",
       "    <tr style=\"text-align: right;\">\n",
       "      <th></th>\n",
       "      <th>MONTH</th>\n",
       "      <th>DOW</th>\n",
       "      <th>ORIGIN</th>\n",
       "      <th>DESTINATION</th>\n",
       "      <th>CUST_CLASS</th>\n",
       "      <th>COD_COUNTRY</th>\n",
       "      <th>COD_PRO</th>\n",
       "      <th>PRO_COM</th>\n",
       "      <th>FLOW</th>\n",
       "    </tr>\n",
       "  </thead>\n",
       "  <tbody>\n",
       "    <tr>\n",
       "      <th>0</th>\n",
       "      <td>Marzo</td>\n",
       "      <td>Domenica</td>\n",
       "      <td>108</td>\n",
       "      <td>300</td>\n",
       "      <td>visitor</td>\n",
       "      <td>222</td>\n",
       "      <td>28.0</td>\n",
       "      <td>-999.0</td>\n",
       "      <td>493</td>\n",
       "    </tr>\n",
       "    <tr>\n",
       "      <th>1</th>\n",
       "      <td>Maggio</td>\n",
       "      <td>Lunedì</td>\n",
       "      <td>300</td>\n",
       "      <td>101</td>\n",
       "      <td>visitor</td>\n",
       "      <td>222</td>\n",
       "      <td>93.0</td>\n",
       "      <td>-999.0</td>\n",
       "      <td>58</td>\n",
       "    </tr>\n",
       "    <tr>\n",
       "      <th>2</th>\n",
       "      <td>Febbraio</td>\n",
       "      <td>Sabato</td>\n",
       "      <td>108</td>\n",
       "      <td>207</td>\n",
       "      <td>visitor</td>\n",
       "      <td>222</td>\n",
       "      <td>28.0</td>\n",
       "      <td>-999.0</td>\n",
       "      <td>39</td>\n",
       "    </tr>\n",
       "    <tr>\n",
       "      <th>3</th>\n",
       "      <td>Aprile</td>\n",
       "      <td>Venerdì</td>\n",
       "      <td>109</td>\n",
       "      <td>121</td>\n",
       "      <td>resident</td>\n",
       "      <td>222</td>\n",
       "      <td>28.0</td>\n",
       "      <td>28060.0</td>\n",
       "      <td>106</td>\n",
       "    </tr>\n",
       "    <tr>\n",
       "      <th>4</th>\n",
       "      <td>Maggio</td>\n",
       "      <td>Giovedì</td>\n",
       "      <td>300</td>\n",
       "      <td>120</td>\n",
       "      <td>visitor</td>\n",
       "      <td>222</td>\n",
       "      <td>28.0</td>\n",
       "      <td>28103.0</td>\n",
       "      <td>136</td>\n",
       "    </tr>\n",
       "    <tr>\n",
       "      <th>...</th>\n",
       "      <td>...</td>\n",
       "      <td>...</td>\n",
       "      <td>...</td>\n",
       "      <td>...</td>\n",
       "      <td>...</td>\n",
       "      <td>...</td>\n",
       "      <td>...</td>\n",
       "      <td>...</td>\n",
       "      <td>...</td>\n",
       "    </tr>\n",
       "    <tr>\n",
       "      <th>193496</th>\n",
       "      <td>Febbraio</td>\n",
       "      <td>Martedì</td>\n",
       "      <td>205</td>\n",
       "      <td>120</td>\n",
       "      <td>Altro</td>\n",
       "      <td>-999</td>\n",
       "      <td>-999.0</td>\n",
       "      <td>-999.0</td>\n",
       "      <td>32</td>\n",
       "    </tr>\n",
       "    <tr>\n",
       "      <th>193497</th>\n",
       "      <td>Marzo</td>\n",
       "      <td>Giovedì</td>\n",
       "      <td>214</td>\n",
       "      <td>115</td>\n",
       "      <td>Altro</td>\n",
       "      <td>-999</td>\n",
       "      <td>-999.0</td>\n",
       "      <td>-999.0</td>\n",
       "      <td>32</td>\n",
       "    </tr>\n",
       "    <tr>\n",
       "      <th>193498</th>\n",
       "      <td>Febbraio</td>\n",
       "      <td>Giovedì</td>\n",
       "      <td>124</td>\n",
       "      <td>121</td>\n",
       "      <td>Altro</td>\n",
       "      <td>-999</td>\n",
       "      <td>-999.0</td>\n",
       "      <td>-999.0</td>\n",
       "      <td>40</td>\n",
       "    </tr>\n",
       "    <tr>\n",
       "      <th>193499</th>\n",
       "      <td>Aprile</td>\n",
       "      <td>Domenica</td>\n",
       "      <td>110</td>\n",
       "      <td>300</td>\n",
       "      <td>visitor</td>\n",
       "      <td>222</td>\n",
       "      <td>28.0</td>\n",
       "      <td>28086.0</td>\n",
       "      <td>36</td>\n",
       "    </tr>\n",
       "    <tr>\n",
       "      <th>193500</th>\n",
       "      <td>Aprile</td>\n",
       "      <td>Lunedì</td>\n",
       "      <td>124</td>\n",
       "      <td>300</td>\n",
       "      <td>visitor</td>\n",
       "      <td>222</td>\n",
       "      <td>69.0</td>\n",
       "      <td>-999.0</td>\n",
       "      <td>32</td>\n",
       "    </tr>\n",
       "  </tbody>\n",
       "</table>\n",
       "<p>193501 rows × 9 columns</p>\n",
       "</div>"
      ],
      "text/plain": [
       "           MONTH       DOW  ORIGIN  DESTINATION CUST_CLASS  COD_COUNTRY  \\\n",
       "0          Marzo  Domenica     108          300    visitor          222   \n",
       "1         Maggio    Lunedì     300          101    visitor          222   \n",
       "2       Febbraio    Sabato     108          207    visitor          222   \n",
       "3         Aprile   Venerdì     109          121   resident          222   \n",
       "4         Maggio   Giovedì     300          120    visitor          222   \n",
       "...          ...       ...     ...          ...        ...          ...   \n",
       "193496  Febbraio   Martedì     205          120      Altro         -999   \n",
       "193497     Marzo   Giovedì     214          115      Altro         -999   \n",
       "193498  Febbraio   Giovedì     124          121      Altro         -999   \n",
       "193499    Aprile  Domenica     110          300    visitor          222   \n",
       "193500    Aprile    Lunedì     124          300    visitor          222   \n",
       "\n",
       "        COD_PRO  PRO_COM  FLOW  \n",
       "0          28.0   -999.0   493  \n",
       "1          93.0   -999.0    58  \n",
       "2          28.0   -999.0    39  \n",
       "3          28.0  28060.0   106  \n",
       "4          28.0  28103.0   136  \n",
       "...         ...      ...   ...  \n",
       "193496   -999.0   -999.0    32  \n",
       "193497   -999.0   -999.0    32  \n",
       "193498   -999.0   -999.0    40  \n",
       "193499     28.0  28086.0    36  \n",
       "193500     69.0   -999.0    32  \n",
       "\n",
       "[193501 rows x 9 columns]"
      ]
     },
     "execution_count": 507,
     "metadata": {},
     "output_type": "execute_result"
    }
   ],
   "source": [
    "file_day_od=\"data/day_od.csv\" #directory of the file(file_path)\n",
    "#csv (comma seperated values, delimiter is comma)\n",
    "data_day_od=pd.read_csv(file_day_od,sep=\",\",encoding='utf-16', header=0)\n",
    "                       \n",
    "#quoting=2,quotechar='\"',escapechar='\\r' )\n",
    "#comment: explicit header=0 to replace column names;  quoting=2 \"Non-Numerical\"; es\n",
    "\n",
    "#seperate the columns by name\n",
    "headerName=[\"MONTH\",\"DOW\",\"ORIGIN\",\"DESTINATION\",\"CUST_CLASS\",\"COD_COUNTRY\",\"COD_PRO\",\"PRO_COM\",\"FLOW\"]\n",
    "data_day_od.columns=headerName\n",
    "day_od=pd.DataFrame(data_day_od)#dataFrame of the file(can be read more easily than csv)\n",
    "\n",
    "day_od.head()\n",
    "\n",
    "data_day_od"
   ]
  },
  {
   "cell_type": "code",
   "execution_count": 508,
   "metadata": {},
   "outputs": [
    {
     "data": {
      "text/html": [
       "<div>\n",
       "<style scoped>\n",
       "    .dataframe tbody tr th:only-of-type {\n",
       "        vertical-align: middle;\n",
       "    }\n",
       "\n",
       "    .dataframe tbody tr th {\n",
       "        vertical-align: top;\n",
       "    }\n",
       "\n",
       "    .dataframe thead th {\n",
       "        text-align: right;\n",
       "    }\n",
       "</style>\n",
       "<table border=\"1\" class=\"dataframe\">\n",
       "  <thead>\n",
       "    <tr style=\"text-align: right;\">\n",
       "      <th></th>\n",
       "      <th>DOW</th>\n",
       "      <th>CUST_CLASS</th>\n",
       "      <th>COD_COUNTRY</th>\n",
       "      <th>COD_PRO</th>\n",
       "      <th>PRO_COM</th>\n",
       "      <th>VISITORS</th>\n",
       "    </tr>\n",
       "  </thead>\n",
       "  <tbody>\n",
       "    <tr>\n",
       "      <th>0</th>\n",
       "      <td>Mercoledì</td>\n",
       "      <td>visitor</td>\n",
       "      <td>222.0</td>\n",
       "      <td>35.0</td>\n",
       "      <td>35033.0</td>\n",
       "      <td>968</td>\n",
       "    </tr>\n",
       "    <tr>\n",
       "      <th>1</th>\n",
       "      <td>Lunedì</td>\n",
       "      <td>visitor</td>\n",
       "      <td>222.0</td>\n",
       "      <td>22.0</td>\n",
       "      <td>22098.0</td>\n",
       "      <td>64</td>\n",
       "    </tr>\n",
       "    <tr>\n",
       "      <th>2</th>\n",
       "      <td>Domenica</td>\n",
       "      <td>visitor</td>\n",
       "      <td>222.0</td>\n",
       "      <td>52.0</td>\n",
       "      <td>52032.0</td>\n",
       "      <td>516</td>\n",
       "    </tr>\n",
       "    <tr>\n",
       "      <th>3</th>\n",
       "      <td>Giovedì</td>\n",
       "      <td>visitor</td>\n",
       "      <td>222.0</td>\n",
       "      <td>108.0</td>\n",
       "      <td>108009.0</td>\n",
       "      <td>128</td>\n",
       "    </tr>\n",
       "    <tr>\n",
       "      <th>4</th>\n",
       "      <td>Giovedì</td>\n",
       "      <td>visitor</td>\n",
       "      <td>222.0</td>\n",
       "      <td>29.0</td>\n",
       "      <td>29048.0</td>\n",
       "      <td>512</td>\n",
       "    </tr>\n",
       "    <tr>\n",
       "      <th>...</th>\n",
       "      <td>...</td>\n",
       "      <td>...</td>\n",
       "      <td>...</td>\n",
       "      <td>...</td>\n",
       "      <td>...</td>\n",
       "      <td>...</td>\n",
       "    </tr>\n",
       "    <tr>\n",
       "      <th>12840</th>\n",
       "      <td>Mercoledì</td>\n",
       "      <td>foreigner</td>\n",
       "      <td>259.0</td>\n",
       "      <td>NaN</td>\n",
       "      <td>NaN</td>\n",
       "      <td>176</td>\n",
       "    </tr>\n",
       "    <tr>\n",
       "      <th>12841</th>\n",
       "      <td>Sabato</td>\n",
       "      <td>foreigner</td>\n",
       "      <td>602.0</td>\n",
       "      <td>NaN</td>\n",
       "      <td>NaN</td>\n",
       "      <td>164</td>\n",
       "    </tr>\n",
       "    <tr>\n",
       "      <th>12842</th>\n",
       "      <td>Giovedì</td>\n",
       "      <td>foreigner</td>\n",
       "      <td>732.0</td>\n",
       "      <td>NaN</td>\n",
       "      <td>NaN</td>\n",
       "      <td>80</td>\n",
       "    </tr>\n",
       "    <tr>\n",
       "      <th>12843</th>\n",
       "      <td>Giovedì</td>\n",
       "      <td>foreigner</td>\n",
       "      <td>297.0</td>\n",
       "      <td>NaN</td>\n",
       "      <td>NaN</td>\n",
       "      <td>80</td>\n",
       "    </tr>\n",
       "    <tr>\n",
       "      <th>12844</th>\n",
       "      <td>Domenica</td>\n",
       "      <td>foreigner</td>\n",
       "      <td>748.0</td>\n",
       "      <td>NaN</td>\n",
       "      <td>NaN</td>\n",
       "      <td>60</td>\n",
       "    </tr>\n",
       "  </tbody>\n",
       "</table>\n",
       "<p>12845 rows × 6 columns</p>\n",
       "</div>"
      ],
      "text/plain": [
       "             DOW CUST_CLASS  COD_COUNTRY  COD_PRO   PRO_COM  VISITORS\n",
       "0      Mercoledì    visitor        222.0     35.0   35033.0       968\n",
       "1         Lunedì    visitor        222.0     22.0   22098.0        64\n",
       "2       Domenica    visitor        222.0     52.0   52032.0       516\n",
       "3        Giovedì    visitor        222.0    108.0  108009.0       128\n",
       "4        Giovedì    visitor        222.0     29.0   29048.0       512\n",
       "...          ...        ...          ...      ...       ...       ...\n",
       "12840  Mercoledì  foreigner        259.0      NaN       NaN       176\n",
       "12841     Sabato  foreigner        602.0      NaN       NaN       164\n",
       "12842    Giovedì  foreigner        732.0      NaN       NaN        80\n",
       "12843    Giovedì  foreigner        297.0      NaN       NaN        80\n",
       "12844   Domenica  foreigner        748.0      NaN       NaN        60\n",
       "\n",
       "[12845 rows x 6 columns]"
      ]
     },
     "execution_count": 508,
     "metadata": {},
     "output_type": "execute_result"
    }
   ],
   "source": [
    "# Getting DataFrame for distinct_users_day.csv\n",
    "file_distinct_users_day=\"data/distinct_users_day.csv\"\n",
    "data_distinct_users_day=pd.read_csv(file_distinct_users_day,sep=\",\",encoding=\"latin-1\")\n",
    "                                    #,quoting=3,escapechar=\"\\\"\",encoding=\"latin-1\")\n",
    "distinct_users_day=pd.DataFrame(data_distinct_users_day)\n",
    "distinct_users_day\n",
    "\n"
   ]
  },
  {
   "cell_type": "code",
   "execution_count": 509,
   "metadata": {},
   "outputs": [
    {
     "data": {
      "text/html": [
       "<div>\n",
       "<style scoped>\n",
       "    .dataframe tbody tr th:only-of-type {\n",
       "        vertical-align: middle;\n",
       "    }\n",
       "\n",
       "    .dataframe tbody tr th {\n",
       "        vertical-align: top;\n",
       "    }\n",
       "\n",
       "    .dataframe thead th {\n",
       "        text-align: right;\n",
       "    }\n",
       "</style>\n",
       "<table border=\"1\" class=\"dataframe\">\n",
       "  <thead>\n",
       "    <tr style=\"text-align: right;\">\n",
       "      <th></th>\n",
       "      <th>COD_PRO</th>\n",
       "      <th>PRO_COM</th>\n",
       "      <th>COMUNE</th>\n",
       "      <th>COMUNE_CAPOLUOGO</th>\n",
       "    </tr>\n",
       "  </thead>\n",
       "  <tbody>\n",
       "    <tr>\n",
       "      <th>0</th>\n",
       "      <td>1</td>\n",
       "      <td>1001</td>\n",
       "      <td>Agliè</td>\n",
       "      <td>0</td>\n",
       "    </tr>\n",
       "    <tr>\n",
       "      <th>1</th>\n",
       "      <td>1</td>\n",
       "      <td>1002</td>\n",
       "      <td>Airasca</td>\n",
       "      <td>0</td>\n",
       "    </tr>\n",
       "    <tr>\n",
       "      <th>2</th>\n",
       "      <td>1</td>\n",
       "      <td>1003</td>\n",
       "      <td>Ala di Stura</td>\n",
       "      <td>0</td>\n",
       "    </tr>\n",
       "    <tr>\n",
       "      <th>3</th>\n",
       "      <td>1</td>\n",
       "      <td>1004</td>\n",
       "      <td>Albiano d'Ivrea</td>\n",
       "      <td>0</td>\n",
       "    </tr>\n",
       "    <tr>\n",
       "      <th>4</th>\n",
       "      <td>1</td>\n",
       "      <td>1005</td>\n",
       "      <td>Alice Superiore</td>\n",
       "      <td>0</td>\n",
       "    </tr>\n",
       "    <tr>\n",
       "      <th>...</th>\n",
       "      <td>...</td>\n",
       "      <td>...</td>\n",
       "      <td>...</td>\n",
       "      <td>...</td>\n",
       "    </tr>\n",
       "    <tr>\n",
       "      <th>7950</th>\n",
       "      <td>111</td>\n",
       "      <td>111104</td>\n",
       "      <td>Villasalto</td>\n",
       "      <td>0</td>\n",
       "    </tr>\n",
       "    <tr>\n",
       "      <th>7951</th>\n",
       "      <td>111</td>\n",
       "      <td>111105</td>\n",
       "      <td>Villasimius</td>\n",
       "      <td>0</td>\n",
       "    </tr>\n",
       "    <tr>\n",
       "      <th>7952</th>\n",
       "      <td>111</td>\n",
       "      <td>111106</td>\n",
       "      <td>Villasor</td>\n",
       "      <td>0</td>\n",
       "    </tr>\n",
       "    <tr>\n",
       "      <th>7953</th>\n",
       "      <td>111</td>\n",
       "      <td>111107</td>\n",
       "      <td>Villaspeciosa</td>\n",
       "      <td>0</td>\n",
       "    </tr>\n",
       "    <tr>\n",
       "      <th>7954</th>\n",
       "      <td>-999</td>\n",
       "      <td>-999</td>\n",
       "      <td>Altro</td>\n",
       "      <td>0</td>\n",
       "    </tr>\n",
       "  </tbody>\n",
       "</table>\n",
       "<p>7955 rows × 4 columns</p>\n",
       "</div>"
      ],
      "text/plain": [
       "      COD_PRO  PRO_COM           COMUNE  COMUNE_CAPOLUOGO\n",
       "0           1     1001            Agliè                 0\n",
       "1           1     1002          Airasca                 0\n",
       "2           1     1003     Ala di Stura                 0\n",
       "3           1     1004  Albiano d'Ivrea                 0\n",
       "4           1     1005  Alice Superiore                 0\n",
       "...       ...      ...              ...               ...\n",
       "7950      111   111104       Villasalto                 0\n",
       "7951      111   111105      Villasimius                 0\n",
       "7952      111   111106         Villasor                 0\n",
       "7953      111   111107    Villaspeciosa                 0\n",
       "7954     -999     -999            Altro                 0\n",
       "\n",
       "[7955 rows x 4 columns]"
      ]
     },
     "execution_count": 509,
     "metadata": {},
     "output_type": "execute_result"
    }
   ],
   "source": [
    "# Getting DataFrame for codici_istat_comune.csv\n",
    "file_codici_istat_comune=\"data/codici_istat_comune.csv\"\n",
    "data_codici_istat_comune=pd.read_csv(file_codici_istat_comune,sep=\",\",delimiter=',',header=0,quoting=3,escapechar=\"\\\"\",encoding=\"latin-1\")\n",
    "codici_istat_comune=pd.DataFrame(data_codici_istat_comune)\n",
    "codici_istat_comune\n",
    "\n"
   ]
  },
  {
   "cell_type": "code",
   "execution_count": 510,
   "metadata": {},
   "outputs": [
    {
     "data": {
      "text/html": [
       "<div>\n",
       "<style scoped>\n",
       "    .dataframe tbody tr th:only-of-type {\n",
       "        vertical-align: middle;\n",
       "    }\n",
       "\n",
       "    .dataframe tbody tr th {\n",
       "        vertical-align: top;\n",
       "    }\n",
       "\n",
       "    .dataframe thead th {\n",
       "        text-align: right;\n",
       "    }\n",
       "</style>\n",
       "<table border=\"1\" class=\"dataframe\">\n",
       "  <thead>\n",
       "    <tr style=\"text-align: right;\">\n",
       "      <th></th>\n",
       "      <th>COD_REG</th>\n",
       "      <th>COD_PRO</th>\n",
       "      <th>PROVINCIA</th>\n",
       "      <th>PROV_SIGLA</th>\n",
       "    </tr>\n",
       "  </thead>\n",
       "  <tbody>\n",
       "    <tr>\n",
       "      <th>0</th>\n",
       "      <td>1</td>\n",
       "      <td>1</td>\n",
       "      <td>Torino</td>\n",
       "      <td>TO</td>\n",
       "    </tr>\n",
       "    <tr>\n",
       "      <th>1</th>\n",
       "      <td>1</td>\n",
       "      <td>2</td>\n",
       "      <td>Vercelli</td>\n",
       "      <td>VC</td>\n",
       "    </tr>\n",
       "    <tr>\n",
       "      <th>2</th>\n",
       "      <td>1</td>\n",
       "      <td>3</td>\n",
       "      <td>Novara</td>\n",
       "      <td>NO</td>\n",
       "    </tr>\n",
       "    <tr>\n",
       "      <th>3</th>\n",
       "      <td>1</td>\n",
       "      <td>4</td>\n",
       "      <td>Cuneo</td>\n",
       "      <td>CN</td>\n",
       "    </tr>\n",
       "    <tr>\n",
       "      <th>4</th>\n",
       "      <td>1</td>\n",
       "      <td>5</td>\n",
       "      <td>Asti</td>\n",
       "      <td>AT</td>\n",
       "    </tr>\n",
       "    <tr>\n",
       "      <th>...</th>\n",
       "      <td>...</td>\n",
       "      <td>...</td>\n",
       "      <td>...</td>\n",
       "      <td>...</td>\n",
       "    </tr>\n",
       "    <tr>\n",
       "      <th>103</th>\n",
       "      <td>20</td>\n",
       "      <td>91</td>\n",
       "      <td>Nuoro</td>\n",
       "      <td>NU</td>\n",
       "    </tr>\n",
       "    <tr>\n",
       "      <th>104</th>\n",
       "      <td>20</td>\n",
       "      <td>92</td>\n",
       "      <td>Cagliari</td>\n",
       "      <td>CA</td>\n",
       "    </tr>\n",
       "    <tr>\n",
       "      <th>105</th>\n",
       "      <td>20</td>\n",
       "      <td>95</td>\n",
       "      <td>Oristano</td>\n",
       "      <td>OR</td>\n",
       "    </tr>\n",
       "    <tr>\n",
       "      <th>106</th>\n",
       "      <td>20</td>\n",
       "      <td>111</td>\n",
       "      <td>Sud Sardegna</td>\n",
       "      <td>SU</td>\n",
       "    </tr>\n",
       "    <tr>\n",
       "      <th>107</th>\n",
       "      <td>-999</td>\n",
       "      <td>-999</td>\n",
       "      <td>Altro</td>\n",
       "      <td>ND</td>\n",
       "    </tr>\n",
       "  </tbody>\n",
       "</table>\n",
       "<p>108 rows × 4 columns</p>\n",
       "</div>"
      ],
      "text/plain": [
       "     COD_REG  COD_PRO     PROVINCIA PROV_SIGLA\n",
       "0          1        1        Torino         TO\n",
       "1          1        2      Vercelli         VC\n",
       "2          1        3        Novara         NO\n",
       "3          1        4         Cuneo         CN\n",
       "4          1        5          Asti         AT\n",
       "..       ...      ...           ...        ...\n",
       "103       20       91         Nuoro         NU\n",
       "104       20       92      Cagliari         CA\n",
       "105       20       95      Oristano         OR\n",
       "106       20      111  Sud Sardegna         SU\n",
       "107     -999     -999         Altro         ND\n",
       "\n",
       "[108 rows x 4 columns]"
      ]
     },
     "execution_count": 510,
     "metadata": {},
     "output_type": "execute_result"
    }
   ],
   "source": [
    "# Getting DataFrame for codici_istat_provincia.csv\n",
    "file_codici_istat_provincia=\"data/codici_istat_provincia.csv\"\n",
    "data_codici_istat_provincia=pd.read_csv(file_codici_istat_provincia,sep=\",\",header=0,quoting=3,escapechar=\"\\\"\",encoding=\"latin-1\")\n",
    "codici_istat_provincia=pd.DataFrame(data_codici_istat_provincia)\n",
    "codici_istat_provincia"
   ]
  },
  {
   "cell_type": "code",
   "execution_count": 511,
   "metadata": {},
   "outputs": [
    {
     "data": {
      "text/html": [
       "<div>\n",
       "<style scoped>\n",
       "    .dataframe tbody tr th:only-of-type {\n",
       "        vertical-align: middle;\n",
       "    }\n",
       "\n",
       "    .dataframe tbody tr th {\n",
       "        vertical-align: top;\n",
       "    }\n",
       "\n",
       "    .dataframe thead th {\n",
       "        text-align: right;\n",
       "    }\n",
       "</style>\n",
       "<table border=\"1\" class=\"dataframe\">\n",
       "  <thead>\n",
       "    <tr style=\"text-align: right;\">\n",
       "      <th></th>\n",
       "      <th>COD_COUNTRY</th>\n",
       "      <th>COUNTRY_NAME_IT</th>\n",
       "    </tr>\n",
       "  </thead>\n",
       "  <tbody>\n",
       "    <tr>\n",
       "      <th>108</th>\n",
       "      <td>658.0</td>\n",
       "      <td>Isola di Sant'Elena, Ascension e Tristan de Cugna</td>\n",
       "    </tr>\n",
       "    <tr>\n",
       "      <th>109</th>\n",
       "      <td>732.0</td>\n",
       "      <td>Colombia</td>\n",
       "    </tr>\n",
       "    <tr>\n",
       "      <th>110</th>\n",
       "      <td>740.0</td>\n",
       "      <td>Ecuador</td>\n",
       "    </tr>\n",
       "    <tr>\n",
       "      <th>111</th>\n",
       "      <td>746.0</td>\n",
       "      <td>Suriname</td>\n",
       "    </tr>\n",
       "  </tbody>\n",
       "</table>\n",
       "</div>"
      ],
      "text/plain": [
       "     COD_COUNTRY                                    COUNTRY_NAME_IT\n",
       "108        658.0  Isola di Sant'Elena, Ascension e Tristan de Cugna\n",
       "109        732.0                                           Colombia\n",
       "110        740.0                                            Ecuador\n",
       "111        746.0                                           Suriname"
      ]
     },
     "execution_count": 511,
     "metadata": {},
     "output_type": "execute_result"
    }
   ],
   "source": [
    "# Getting DataFrame for codici_nazioni.csv\n",
    "import csv\n",
    "file_codici_nazioni=\"data/codici_nazioni.csv\"\n",
    "data_codici_nazioni=pd.read_csv(file_codici_nazioni,delimiter=',',header=0,quoting=2, \n",
    "                                error_bad_lines=True,encoding=\"utf-16\",quotechar = '\"',escapechar='\\r')\n",
    "codici_nazioni=pd.DataFrame(data_codici_nazioni)\n",
    "codici_nazioni[108:112]\n",
    "\n"
   ]
  },
  {
   "cell_type": "markdown",
   "metadata": {},
   "source": [
    "## POINT 4"
   ]
  },
  {
   "cell_type": "markdown",
   "metadata": {},
   "source": [
    " Study of the visitors' fluxes: let's assume to be asked to provide indications of how to invest resources to improve the mobility toward Padova. Defined the three main directions of visitors and commuter getting to Padova by the Italian highways (sud: A13 toward Bologna-Roma / west: A4 toward Milano-Torino / north-east: A4 toward Venice-Trieste), evaluate which of the three directions has to be prioritized:\n",
    " 1. Consider a simplified case involving only the mid-range mobility, based on the number of visitors/commuters from the nearby regions only\n",
    " * Consider the provinces located on the three directions that are mostly contributing to the flow of weekend visitors and working daily commuters by performing a more detailed study of the fluxes based on the day of the week\n",
    " * _[OPEN]_ Use the data available to provide what you believe is the best possible answer "
   ]
  },
  {
   "cell_type": "code",
   "execution_count": 512,
   "metadata": {},
   "outputs": [],
   "source": [
    "#For the regions of interest insert the region capital names and the region names\n",
    "cap=['Milano', 'Bologna', 'Trieste']\n",
    "reg=['Lombardia', 'Emilia Romagna', 'Friuli Venezia Giulia']\n",
    "\n",
    "#Function to obtain the info of the regions of interest \n",
    "def info_regions(codici_istat_provincia, capoluogo):\n",
    "    cod_reg=codici_istat_provincia[codici_istat_provincia['PROVINCIA'] == capoluogo]['COD_REG'].values[0] \n",
    "    info_reg=codici_istat_provincia[codici_istat_provincia['COD_REG'] == cod_reg]\n",
    "    return info_reg\n",
    "\n",
    "#Create a dictionary of dataframes for the different regions\n",
    "d = {} \n",
    "cod_int=[]\n",
    "for c in cap:\n",
    "    d[reg[cap.index(c)]] = pd.DataFrame(info_regions(codici_istat_provincia,c))\n",
    "\n",
    "\n",
    "#dataframe d[key] with key=reg[0]\n",
    "##stampa dei dataframe\n",
    "#for i in range(len(reg)):  \n",
    "#    print(d[reg[i]])\n",
    "#    print(\"\\n\")\n",
    "\n",
    "#d[reg[0]]\n",
    "#d[reg[i]].iloc[:,1]\n",
    "#d[reg[0]].iat[1,1]"
   ]
  },
  {
   "cell_type": "code",
   "execution_count": 513,
   "metadata": {},
   "outputs": [
    {
     "name": "stdout",
     "output_type": "stream",
     "text": [
      "                  REGION    FLOW\n",
      "0              Lombardia  186815\n",
      "1         Emilia Romagna   89346\n",
      "2  Friuli Venezia Giulia   80930\n",
      "\n",
      "\n"
     ]
    }
   ],
   "source": [
    "#######4.1: STUDY OF THE FLUXES OF NEARBY REGIONS TO FIND WHICH OF THE THREE DIRECTIONS HAS TO BE PRIORITIZED######\n",
    "\n",
    "#Function to calculate the total flow of the regions of interest \n",
    "def flow_regions(data_day_od, cod_all_prov):\n",
    "    flow_sum=data_day_od.groupby([data_day_od['COD_PRO'].isin(cod_all_prov)])['FLOW'].sum()\n",
    "    return flow_sum[1] #true is the second one \n",
    "    #FIND A WAY TO CHECK ON THE TRUE VARIABLE\n",
    "\n",
    "#Create a dictionary for the different regions with the total flux \n",
    "d_flow = {}\n",
    "for i in range(len(reg)):\n",
    "    d_flow[reg[i]] = flow_regions(data_day_od, d[reg[i]]['COD_PRO'].values[:])\n",
    "\n",
    "#Dataframe with the total flux for the regions of interest\n",
    "flow= pd.DataFrame(d_flow.items(), columns=['REGION', 'FLOW'])\n",
    "print(flow.sort_values(by='FLOW', ascending=False))\n",
    "print(\"\\n\")\n",
    "\n"
   ]
  },
  {
   "cell_type": "code",
   "execution_count": 514,
   "metadata": {},
   "outputs": [
    {
     "name": "stdout",
     "output_type": "stream",
     "text": [
      "Lombardia\n",
      "   COD_PRO     NAME    FLOW\n",
      "0     15.0   Milano  114550\n",
      "1     17.0  Brescia   20032\n",
      "2     20.0  Mantova   18611\n",
      "\n",
      "\n",
      "\n",
      "Emilia Romagna\n",
      "   COD_PRO     NAME   FLOW\n",
      "0     37.0  Bologna  39719\n",
      "1     38.0  Ferrara  29997\n",
      "2     36.0   Modena   7948\n",
      "\n",
      "\n",
      "\n",
      "Friuli Venezia Giulia\n",
      "   COD_PRO       NAME   FLOW\n",
      "0     30.0      Udine  39633\n",
      "1     93.0  Pordenone  34245\n",
      "2     32.0    Trieste   6620\n",
      "\n",
      "\n",
      "\n",
      "\n",
      "\n",
      "\n",
      " Lombardia\n",
      "         DOW     NAME  COD_PRO  FLOW\n",
      "0     Lunedì  Mantova     20.0  3058\n",
      "1    Martedì  Mantova     20.0  2880\n",
      "2  Mercoledì  Mantova     20.0  2977\n",
      "3    Giovedì  Mantova     20.0  2714\n",
      "4    Venerdì  Mantova     20.0  2858\n",
      "5     Sabato  Mantova     20.0  1977\n",
      "6   Domenica  Mantova     20.0  2147\n",
      "\n",
      "\n",
      "\n",
      " Lombardia\n",
      "         DOW     NAME  COD_PRO  FLOW\n",
      "0     Lunedì  Brescia     17.0  3192\n",
      "1    Martedì  Brescia     17.0  3135\n",
      "2  Mercoledì  Brescia     17.0  3717\n",
      "3    Giovedì  Brescia     17.0  2890\n",
      "4    Venerdì  Brescia     17.0  2948\n",
      "5     Sabato  Brescia     17.0  2356\n",
      "6   Domenica  Brescia     17.0  1794\n",
      "\n",
      "\n",
      "\n",
      " Emilia Romagna\n",
      "         DOW     NAME  COD_PRO  FLOW\n",
      "0     Lunedì  Ferrara     38.0  4608\n",
      "1    Martedì  Ferrara     38.0  4678\n",
      "2  Mercoledì  Ferrara     38.0  4568\n",
      "3    Giovedì  Ferrara     38.0  4595\n",
      "4    Venerdì  Ferrara     38.0  4766\n",
      "5     Sabato  Ferrara     38.0  3786\n",
      "6   Domenica  Ferrara     38.0  2996\n",
      "\n",
      "\n",
      "\n",
      " Emilia Romagna\n",
      "         DOW     NAME  COD_PRO  FLOW\n",
      "0     Lunedì  Bologna     37.0  5345\n",
      "1    Martedì  Bologna     37.0  5322\n",
      "2  Mercoledì  Bologna     37.0  6235\n",
      "3    Giovedì  Bologna     37.0  5461\n",
      "4    Venerdì  Bologna     37.0  5829\n",
      "5     Sabato  Bologna     37.0  6162\n",
      "6   Domenica  Bologna     37.0  5365\n",
      "\n",
      "\n",
      "\n",
      " Friuli Venezia Giulia\n",
      "         DOW       NAME  COD_PRO  FLOW\n",
      "0     Lunedì  Pordenone     93.0  5174\n",
      "1    Martedì  Pordenone     93.0  5940\n",
      "2  Mercoledì  Pordenone     93.0  6324\n",
      "3    Giovedì  Pordenone     93.0  5984\n",
      "4    Venerdì  Pordenone     93.0  4563\n",
      "5     Sabato  Pordenone     93.0  3394\n",
      "6   Domenica  Pordenone     93.0  2866\n",
      "\n",
      "\n",
      "\n",
      " Friuli Venezia Giulia\n",
      "         DOW     NAME  COD_PRO  FLOW\n",
      "0     Lunedì  Trieste     32.0   678\n",
      "1    Martedì  Trieste     32.0  1143\n",
      "2  Mercoledì  Trieste     32.0  1209\n",
      "3    Giovedì  Trieste     32.0  1145\n",
      "4    Venerdì  Trieste     32.0  1040\n",
      "5     Sabato  Trieste     32.0   846\n",
      "6   Domenica  Trieste     32.0   559\n",
      "\n",
      "\n",
      "\n",
      " Lombardia\n",
      "         DOW   FLOW\n",
      "0     Lunedì  20502\n",
      "1    Martedì  20584\n",
      "2  Mercoledì  21286\n",
      "3    Giovedì  21306\n",
      "4    Venerdì  23184\n",
      "5     Sabato  24788\n",
      "6   Domenica  21543\n",
      "\n",
      " Emilia Romagna\n",
      "         DOW   FLOW\n",
      "0     Lunedì  10945\n",
      "1    Martedì  11405\n",
      "2  Mercoledì  12007\n",
      "3    Giovedì  11070\n",
      "4    Venerdì  11545\n",
      "5     Sabato  11176\n",
      "6   Domenica   9516\n",
      "\n",
      " Friuli Venezia Giulia\n",
      "         DOW   FLOW\n",
      "0     Lunedì  11574\n",
      "1    Martedì  13786\n",
      "2  Mercoledì  13954\n",
      "3    Giovedì  13159\n",
      "4    Venerdì  12145\n",
      "5     Sabato   8732\n",
      "6   Domenica   7148\n"
     ]
    },
    {
     "name": "stderr",
     "output_type": "stream",
     "text": [
      "<ipython-input-514-8eec6bd4dabd>:124: SettingWithCopyWarning:\n",
      "\n",
      "\n",
      "A value is trying to be set on a copy of a slice from a DataFrame.\n",
      "Try using .loc[row_indexer,col_indexer] = value instead\n",
      "\n",
      "See the caveats in the documentation: https://pandas.pydata.org/pandas-docs/stable/user_guide/indexing.html#returning-a-view-versus-a-copy\n",
      "\n"
     ]
    }
   ],
   "source": [
    "########## 4.2: STUDY OF THE FLUXES OF THE MOSTLY CONTRIBUTING PROVINCES BASED ON THE DAY OF THE WEEK #########\n",
    "\n",
    "\n",
    "#DATA OF THE REGIONS OF INTEREST\n",
    "\n",
    "#Returns a dataset with all the info (data_day_od) of the regions of interest\n",
    "def data_regions(data_day_od, cod_all_prov):\n",
    "    data_reg=data_day_od[data_day_od['COD_PRO'].isin(cod_all_prov)]\n",
    "    return data_reg\n",
    "\n",
    "#Define a dictionary with the dataframe for the different regions\n",
    "data_reg = {} \n",
    "for i in range(len(reg)):\n",
    "    data_reg[reg[i]] = pd.DataFrame(data_regions(data_day_od,d[reg[i]]['COD_PRO'].values[:]))\n",
    "    \n",
    "    \n",
    "#print(data_reg)\n",
    "#print dataframe\n",
    "#for i in range(len(reg)):  \n",
    "#    print(reg[i])\n",
    "#    print(data_reg[reg[i]])\n",
    "#    print(\"\\n\")\n",
    "\n",
    "\n",
    "#SELECTION OF THE PROVINCES THAT ARE MOSTLY CONTRIBUTING BASED ON THE FLOW \n",
    "\n",
    "#Functions that finds the mostly contributing provinces for each region:\n",
    "#calculate the total flux for each province and returns the code of the selected provinces\n",
    "def flow_province(data_regions):\n",
    "    flow_province=data_regions.groupby('COD_PRO').FLOW.sum()\n",
    "    flow_sorted=flow_province.sort_values(ascending=False)\n",
    "    #flow_selected=flow_sorted.loc[flow_sorted[:] >= 1e4].reset_index()\n",
    "    flow_selected=flow_sorted.head(n=3).reset_index()\n",
    "    cod_pro_selected=flow_selected['COD_PRO'].values[:]\n",
    "    return flow_selected, cod_pro_selected\n",
    "\n",
    "d_flow_province = {} #for function output\n",
    "cod_pro_selected={} #for function output\n",
    "flow_pro={} #to built a dictionary with a flow dataframe for the different regions\n",
    "pro_selected={}  #to built a dictionary with the code of the selected provinces\n",
    "\n",
    "for i in range(len(reg)): \n",
    "    d_flow_province, cod_pro_selected = flow_province(data_reg[reg[i]]) #function returns two different outputs\n",
    "    flow_pro[reg[i]]= d_flow_province\n",
    "    pro_selected[reg[i]]=cod_pro_selected\n",
    "    \n",
    "\n",
    "#Associating each province code the province name\n",
    "#flow of the province for a region flow_pro[reg[i]]: 'COD PRO', 'NAME', 'FLOW'\n",
    "\n",
    "for i in range(len(reg)):\n",
    "    name_l=[]\n",
    "    for cod in flow_pro[reg[i]]['COD_PRO'].values[:]:\n",
    "        if cod in d[reg[i]]['COD_PRO'].values[:]:\n",
    "            where=np.argwhere(d[reg[i]]['COD_PRO'].values[:]==cod)\n",
    "            idx=where[0][0] #torna poco questo 00\n",
    "            name=d[reg[i]]['PROVINCIA'].values[idx:idx+1][0]\n",
    "            name_l.append(name)\n",
    "    print(reg[i])\n",
    "    flow_pro[reg[i]].insert(1, \"NAME\", name_l)\n",
    "    print(flow_pro[reg[i]])\n",
    "    print()\n",
    "    print(\"\\n\")\n",
    "    \n",
    "    \n",
    "\n",
    "#STUDY OF THE FLUXES BASED ON THE DAY OF THE WEEK\n",
    "\n",
    "#Function that returns a dataframe with all the info (data_day_od solo) fro the selected provinces for each region\n",
    "def data_selected_province(data_day_od,cod_pro_selected):\n",
    "    data_province_selected=data_day_od[data_day_od['COD_PRO'].isin(cod_pro_selected)] #PROBLEMI!!!\n",
    "    return data_province_selected\n",
    "\n",
    "#Define a dictionary with a dataframe for the different regions, containg all the info of the selected provinces \n",
    "d_selected_province = {} \n",
    "for i in range(len(reg)):\n",
    "    d_selected_province[reg[i]] = pd.DataFrame(data_selected_province(data_day_od,flow_pro[reg[i]]['COD_PRO'].values[:]))\n",
    "    \n",
    "#print(d_selected_province)\n",
    "\n",
    "\n",
    "#Sum of the fluxes based on the day of the week and the province\n",
    "def flow_days(data_province_selected, cod_pro_selected):\n",
    "    flow_days=data_province_selected.groupby(['DOW', 'COD_PRO']).FLOW.sum().reset_index()\n",
    "    #flow_sorted=flow_days['FLOW'].sort_values(ascending=False)\n",
    "    #flow_selected=flow_sorted.loc[flow_sorted[:] >= 1e4]\n",
    "    #flow_selected= flow_sorted.head(n=3)\n",
    "    return flow_days\n",
    "\n",
    "#Define a dictionary with a dataframe \n",
    "d_flow_days = {} \n",
    "\n",
    "for i in range(len(reg)):\n",
    "    d_flow_days[reg[i]] = pd.DataFrame(flow_days(d_selected_province[reg[i]],flow_pro[reg[i]]['COD_PRO']))\n",
    "\n",
    "\n",
    "#Priting the dataframe associating the name to each province code\n",
    "\n",
    "for i in range(len(reg)):\n",
    "    name_list=[]\n",
    "    for cod in d_flow_days[reg[i]]['COD_PRO'].values[:]:\n",
    "        if cod in d[reg[i]]['COD_PRO'].values[:]:\n",
    "            where=np.argwhere(d[reg[i]]['COD_PRO'].values[:]==cod)\n",
    "            idx=where[0][0] #torna poco questo 00\n",
    "            name=d[reg[i]]['PROVINCIA'].values[idx:idx+1][0]\n",
    "            name_list.append(name)  \n",
    "    #print(reg[i])\n",
    "    d_flow_days[reg[i]].insert(1, \"NAME\", name_list)\n",
    "    #print(d_flow_days[reg[i]])\n",
    "\n",
    "\n",
    "\n",
    "#sort values\n",
    "#print(flow_days_lombardia.sort_values(by='FLOW',ascending=False))\n",
    "#print(flow_days_lombardia.sort_values(by='COD_PRO',ascending=False))\n",
    "print(\"\\n\")\n",
    "\n",
    "#Analysis based on the days\n",
    "\n",
    "days = ['Lunedì', 'Martedì', 'Mercoledì', 'Giovedì', 'Venerdì', 'Sabato', 'Domenica']\n",
    "\n",
    "#Function to order the dataset based on the days of the week \n",
    "def days_order(dataset,days):\n",
    "    dataset['DOW']=pd.Categorical(dataset['DOW'], categories=days, ordered=True)\n",
    "    dataset_days=dataset.sort_values(['DOW'], ignore_index=True)\n",
    "    return dataset_days\n",
    "\n",
    "#Function to sort the data by provinces\n",
    "def sort(dataset):\n",
    "    dataset=dataset.sort_values(['COD_PRO', 'NAME'],ascending=False, ignore_index=True)\n",
    "    #dataset['DOW']=pd.Categorical(dataset['DOW'], categories=days, ordered=True)\n",
    "    #dataset_days=dataset.sort_values(['DOW'])\n",
    "    return dataset\n",
    "\n",
    "#Define a dictionary cointaing a dataframe for each regions \n",
    "#Different dataframes based on different type of data organization\n",
    "flow_each_pro={}\n",
    "\n",
    "for i in range(len(reg)):\n",
    "    flow_each_pro[reg[i]]=sort(d_flow_days[reg[i]])\n",
    "    for d in range(0,len(flow_each_pro[reg[i]]),7): #MODIFY 7 with the len of the numbers of day per prov\n",
    "        flow_each_pro[reg[i],d//7]= pd.DataFrame(days_order(flow_each_pro[reg[i]][d:d+7],days))\n",
    "    flow_each_pro[reg[i]]=pd.DataFrame(days_order(d_flow_days[reg[i]],days))\n",
    "\n",
    "#Data for a region, sorted by days of the week and diveded by provinces \n",
    "#print(flow_each_pro[reg[0]]) \n",
    "#Data for a single province, sorted by the days of the week\n",
    "#print(flow_each_pro[reg[i],k]) \n",
    "\n",
    "for i in range(len(reg)):\n",
    "    for k in range(2):\n",
    "        print(\"\\n\", reg[i])\n",
    "        print(flow_each_pro[reg[i],k]) \n",
    "        print(\"\\n\")\n",
    "    \n",
    "#Funtion to sum the fluxes of a day for each region \n",
    "def flux_sum_day(flow_each_pro):\n",
    "    flux_sum_pd=flow_each_pro.groupby(['DOW'])['FLOW'].sum().reset_index()\n",
    "    return flux_sum_pd\n",
    "\n",
    "#Dictionary \n",
    "flux_sum_perday={}\n",
    "\n",
    "#Dataframe for each region with the sum of luxes based on the day of the week\n",
    "for i in range(len(reg)):\n",
    "        flux_sum_perday[reg[i]]=flux_sum_day(flow_each_pro[reg[i]])\n",
    "        print(\"\\n\",reg[i])\n",
    "        print(flux_sum_perday[reg[i]]) "
   ]
  },
  {
   "cell_type": "code",
   "execution_count": 515,
   "metadata": {},
   "outputs": [
    {
     "data": {
      "application/vnd.plotly.v1+json": {
       "config": {
        "plotlyServerURL": "https://plot.ly"
       },
       "data": [
        {
         "name": "Mantova",
         "type": "bar",
         "x": [
          "Lunedì",
          "Martedì",
          "Mercoledì",
          "Giovedì",
          "Venerdì",
          "Sabato",
          "Domenica"
         ],
         "y": [
          3058,
          2880,
          2977,
          2714,
          2858,
          1977,
          2147
         ]
        },
        {
         "name": "Brescia",
         "type": "bar",
         "x": [
          "Lunedì",
          "Martedì",
          "Mercoledì",
          "Giovedì",
          "Venerdì",
          "Sabato",
          "Domenica"
         ],
         "y": [
          3192,
          3135,
          3717,
          2890,
          2948,
          2356,
          1794
         ]
        },
        {
         "name": "Milano",
         "type": "bar",
         "x": [
          "Lunedì",
          "Martedì",
          "Mercoledì",
          "Giovedì",
          "Venerdì",
          "Sabato",
          "Domenica"
         ],
         "y": [
          14252,
          14569,
          14592,
          15702,
          17378,
          20455,
          17602
         ]
        },
        {
         "name": "Ferrara",
         "type": "bar",
         "x": [
          "Lunedì",
          "Martedì",
          "Mercoledì",
          "Giovedì",
          "Venerdì",
          "Sabato",
          "Domenica"
         ],
         "y": [
          4608,
          4678,
          4568,
          4595,
          4766,
          3786,
          2996
         ]
        },
        {
         "name": "Bologna",
         "type": "bar",
         "x": [
          "Lunedì",
          "Martedì",
          "Mercoledì",
          "Giovedì",
          "Venerdì",
          "Sabato",
          "Domenica"
         ],
         "y": [
          5345,
          5322,
          6235,
          5461,
          5829,
          6162,
          5365
         ]
        },
        {
         "name": "Modena",
         "type": "bar",
         "x": [
          "Lunedì",
          "Martedì",
          "Mercoledì",
          "Giovedì",
          "Venerdì",
          "Sabato",
          "Domenica"
         ],
         "y": [
          992,
          1405,
          1204,
          1014,
          950,
          1228,
          1155
         ]
        },
        {
         "name": "Pordenone",
         "type": "bar",
         "x": [
          "Lunedì",
          "Martedì",
          "Mercoledì",
          "Giovedì",
          "Venerdì",
          "Sabato",
          "Domenica"
         ],
         "y": [
          5174,
          5940,
          6324,
          5984,
          4563,
          3394,
          2866
         ]
        },
        {
         "name": "Trieste",
         "type": "bar",
         "x": [
          "Lunedì",
          "Martedì",
          "Mercoledì",
          "Giovedì",
          "Venerdì",
          "Sabato",
          "Domenica"
         ],
         "y": [
          678,
          1143,
          1209,
          1145,
          1040,
          846,
          559
         ]
        },
        {
         "name": "Udine",
         "type": "bar",
         "x": [
          "Lunedì",
          "Martedì",
          "Mercoledì",
          "Giovedì",
          "Venerdì",
          "Sabato",
          "Domenica"
         ],
         "y": [
          5722,
          6703,
          6421,
          6030,
          6542,
          4492,
          3723
         ]
        }
       ],
       "layout": {
        "template": {
         "data": {
          "bar": [
           {
            "error_x": {
             "color": "#2a3f5f"
            },
            "error_y": {
             "color": "#2a3f5f"
            },
            "marker": {
             "line": {
              "color": "#E5ECF6",
              "width": 0.5
             }
            },
            "type": "bar"
           }
          ],
          "barpolar": [
           {
            "marker": {
             "line": {
              "color": "#E5ECF6",
              "width": 0.5
             }
            },
            "type": "barpolar"
           }
          ],
          "carpet": [
           {
            "aaxis": {
             "endlinecolor": "#2a3f5f",
             "gridcolor": "white",
             "linecolor": "white",
             "minorgridcolor": "white",
             "startlinecolor": "#2a3f5f"
            },
            "baxis": {
             "endlinecolor": "#2a3f5f",
             "gridcolor": "white",
             "linecolor": "white",
             "minorgridcolor": "white",
             "startlinecolor": "#2a3f5f"
            },
            "type": "carpet"
           }
          ],
          "choropleth": [
           {
            "colorbar": {
             "outlinewidth": 0,
             "ticks": ""
            },
            "type": "choropleth"
           }
          ],
          "contour": [
           {
            "colorbar": {
             "outlinewidth": 0,
             "ticks": ""
            },
            "colorscale": [
             [
              0,
              "#0d0887"
             ],
             [
              0.1111111111111111,
              "#46039f"
             ],
             [
              0.2222222222222222,
              "#7201a8"
             ],
             [
              0.3333333333333333,
              "#9c179e"
             ],
             [
              0.4444444444444444,
              "#bd3786"
             ],
             [
              0.5555555555555556,
              "#d8576b"
             ],
             [
              0.6666666666666666,
              "#ed7953"
             ],
             [
              0.7777777777777778,
              "#fb9f3a"
             ],
             [
              0.8888888888888888,
              "#fdca26"
             ],
             [
              1,
              "#f0f921"
             ]
            ],
            "type": "contour"
           }
          ],
          "contourcarpet": [
           {
            "colorbar": {
             "outlinewidth": 0,
             "ticks": ""
            },
            "type": "contourcarpet"
           }
          ],
          "heatmap": [
           {
            "colorbar": {
             "outlinewidth": 0,
             "ticks": ""
            },
            "colorscale": [
             [
              0,
              "#0d0887"
             ],
             [
              0.1111111111111111,
              "#46039f"
             ],
             [
              0.2222222222222222,
              "#7201a8"
             ],
             [
              0.3333333333333333,
              "#9c179e"
             ],
             [
              0.4444444444444444,
              "#bd3786"
             ],
             [
              0.5555555555555556,
              "#d8576b"
             ],
             [
              0.6666666666666666,
              "#ed7953"
             ],
             [
              0.7777777777777778,
              "#fb9f3a"
             ],
             [
              0.8888888888888888,
              "#fdca26"
             ],
             [
              1,
              "#f0f921"
             ]
            ],
            "type": "heatmap"
           }
          ],
          "heatmapgl": [
           {
            "colorbar": {
             "outlinewidth": 0,
             "ticks": ""
            },
            "colorscale": [
             [
              0,
              "#0d0887"
             ],
             [
              0.1111111111111111,
              "#46039f"
             ],
             [
              0.2222222222222222,
              "#7201a8"
             ],
             [
              0.3333333333333333,
              "#9c179e"
             ],
             [
              0.4444444444444444,
              "#bd3786"
             ],
             [
              0.5555555555555556,
              "#d8576b"
             ],
             [
              0.6666666666666666,
              "#ed7953"
             ],
             [
              0.7777777777777778,
              "#fb9f3a"
             ],
             [
              0.8888888888888888,
              "#fdca26"
             ],
             [
              1,
              "#f0f921"
             ]
            ],
            "type": "heatmapgl"
           }
          ],
          "histogram": [
           {
            "marker": {
             "colorbar": {
              "outlinewidth": 0,
              "ticks": ""
             }
            },
            "type": "histogram"
           }
          ],
          "histogram2d": [
           {
            "colorbar": {
             "outlinewidth": 0,
             "ticks": ""
            },
            "colorscale": [
             [
              0,
              "#0d0887"
             ],
             [
              0.1111111111111111,
              "#46039f"
             ],
             [
              0.2222222222222222,
              "#7201a8"
             ],
             [
              0.3333333333333333,
              "#9c179e"
             ],
             [
              0.4444444444444444,
              "#bd3786"
             ],
             [
              0.5555555555555556,
              "#d8576b"
             ],
             [
              0.6666666666666666,
              "#ed7953"
             ],
             [
              0.7777777777777778,
              "#fb9f3a"
             ],
             [
              0.8888888888888888,
              "#fdca26"
             ],
             [
              1,
              "#f0f921"
             ]
            ],
            "type": "histogram2d"
           }
          ],
          "histogram2dcontour": [
           {
            "colorbar": {
             "outlinewidth": 0,
             "ticks": ""
            },
            "colorscale": [
             [
              0,
              "#0d0887"
             ],
             [
              0.1111111111111111,
              "#46039f"
             ],
             [
              0.2222222222222222,
              "#7201a8"
             ],
             [
              0.3333333333333333,
              "#9c179e"
             ],
             [
              0.4444444444444444,
              "#bd3786"
             ],
             [
              0.5555555555555556,
              "#d8576b"
             ],
             [
              0.6666666666666666,
              "#ed7953"
             ],
             [
              0.7777777777777778,
              "#fb9f3a"
             ],
             [
              0.8888888888888888,
              "#fdca26"
             ],
             [
              1,
              "#f0f921"
             ]
            ],
            "type": "histogram2dcontour"
           }
          ],
          "mesh3d": [
           {
            "colorbar": {
             "outlinewidth": 0,
             "ticks": ""
            },
            "type": "mesh3d"
           }
          ],
          "parcoords": [
           {
            "line": {
             "colorbar": {
              "outlinewidth": 0,
              "ticks": ""
             }
            },
            "type": "parcoords"
           }
          ],
          "pie": [
           {
            "automargin": true,
            "type": "pie"
           }
          ],
          "scatter": [
           {
            "marker": {
             "colorbar": {
              "outlinewidth": 0,
              "ticks": ""
             }
            },
            "type": "scatter"
           }
          ],
          "scatter3d": [
           {
            "line": {
             "colorbar": {
              "outlinewidth": 0,
              "ticks": ""
             }
            },
            "marker": {
             "colorbar": {
              "outlinewidth": 0,
              "ticks": ""
             }
            },
            "type": "scatter3d"
           }
          ],
          "scattercarpet": [
           {
            "marker": {
             "colorbar": {
              "outlinewidth": 0,
              "ticks": ""
             }
            },
            "type": "scattercarpet"
           }
          ],
          "scattergeo": [
           {
            "marker": {
             "colorbar": {
              "outlinewidth": 0,
              "ticks": ""
             }
            },
            "type": "scattergeo"
           }
          ],
          "scattergl": [
           {
            "marker": {
             "colorbar": {
              "outlinewidth": 0,
              "ticks": ""
             }
            },
            "type": "scattergl"
           }
          ],
          "scattermapbox": [
           {
            "marker": {
             "colorbar": {
              "outlinewidth": 0,
              "ticks": ""
             }
            },
            "type": "scattermapbox"
           }
          ],
          "scatterpolar": [
           {
            "marker": {
             "colorbar": {
              "outlinewidth": 0,
              "ticks": ""
             }
            },
            "type": "scatterpolar"
           }
          ],
          "scatterpolargl": [
           {
            "marker": {
             "colorbar": {
              "outlinewidth": 0,
              "ticks": ""
             }
            },
            "type": "scatterpolargl"
           }
          ],
          "scatterternary": [
           {
            "marker": {
             "colorbar": {
              "outlinewidth": 0,
              "ticks": ""
             }
            },
            "type": "scatterternary"
           }
          ],
          "surface": [
           {
            "colorbar": {
             "outlinewidth": 0,
             "ticks": ""
            },
            "colorscale": [
             [
              0,
              "#0d0887"
             ],
             [
              0.1111111111111111,
              "#46039f"
             ],
             [
              0.2222222222222222,
              "#7201a8"
             ],
             [
              0.3333333333333333,
              "#9c179e"
             ],
             [
              0.4444444444444444,
              "#bd3786"
             ],
             [
              0.5555555555555556,
              "#d8576b"
             ],
             [
              0.6666666666666666,
              "#ed7953"
             ],
             [
              0.7777777777777778,
              "#fb9f3a"
             ],
             [
              0.8888888888888888,
              "#fdca26"
             ],
             [
              1,
              "#f0f921"
             ]
            ],
            "type": "surface"
           }
          ],
          "table": [
           {
            "cells": {
             "fill": {
              "color": "#EBF0F8"
             },
             "line": {
              "color": "white"
             }
            },
            "header": {
             "fill": {
              "color": "#C8D4E3"
             },
             "line": {
              "color": "white"
             }
            },
            "type": "table"
           }
          ]
         },
         "layout": {
          "annotationdefaults": {
           "arrowcolor": "#2a3f5f",
           "arrowhead": 0,
           "arrowwidth": 1
          },
          "autotypenumbers": "strict",
          "coloraxis": {
           "colorbar": {
            "outlinewidth": 0,
            "ticks": ""
           }
          },
          "colorscale": {
           "diverging": [
            [
             0,
             "#8e0152"
            ],
            [
             0.1,
             "#c51b7d"
            ],
            [
             0.2,
             "#de77ae"
            ],
            [
             0.3,
             "#f1b6da"
            ],
            [
             0.4,
             "#fde0ef"
            ],
            [
             0.5,
             "#f7f7f7"
            ],
            [
             0.6,
             "#e6f5d0"
            ],
            [
             0.7,
             "#b8e186"
            ],
            [
             0.8,
             "#7fbc41"
            ],
            [
             0.9,
             "#4d9221"
            ],
            [
             1,
             "#276419"
            ]
           ],
           "sequential": [
            [
             0,
             "#0d0887"
            ],
            [
             0.1111111111111111,
             "#46039f"
            ],
            [
             0.2222222222222222,
             "#7201a8"
            ],
            [
             0.3333333333333333,
             "#9c179e"
            ],
            [
             0.4444444444444444,
             "#bd3786"
            ],
            [
             0.5555555555555556,
             "#d8576b"
            ],
            [
             0.6666666666666666,
             "#ed7953"
            ],
            [
             0.7777777777777778,
             "#fb9f3a"
            ],
            [
             0.8888888888888888,
             "#fdca26"
            ],
            [
             1,
             "#f0f921"
            ]
           ],
           "sequentialminus": [
            [
             0,
             "#0d0887"
            ],
            [
             0.1111111111111111,
             "#46039f"
            ],
            [
             0.2222222222222222,
             "#7201a8"
            ],
            [
             0.3333333333333333,
             "#9c179e"
            ],
            [
             0.4444444444444444,
             "#bd3786"
            ],
            [
             0.5555555555555556,
             "#d8576b"
            ],
            [
             0.6666666666666666,
             "#ed7953"
            ],
            [
             0.7777777777777778,
             "#fb9f3a"
            ],
            [
             0.8888888888888888,
             "#fdca26"
            ],
            [
             1,
             "#f0f921"
            ]
           ]
          },
          "colorway": [
           "#636efa",
           "#EF553B",
           "#00cc96",
           "#ab63fa",
           "#FFA15A",
           "#19d3f3",
           "#FF6692",
           "#B6E880",
           "#FF97FF",
           "#FECB52"
          ],
          "font": {
           "color": "#2a3f5f"
          },
          "geo": {
           "bgcolor": "white",
           "lakecolor": "white",
           "landcolor": "#E5ECF6",
           "showlakes": true,
           "showland": true,
           "subunitcolor": "white"
          },
          "hoverlabel": {
           "align": "left"
          },
          "hovermode": "closest",
          "mapbox": {
           "style": "light"
          },
          "paper_bgcolor": "white",
          "plot_bgcolor": "#E5ECF6",
          "polar": {
           "angularaxis": {
            "gridcolor": "white",
            "linecolor": "white",
            "ticks": ""
           },
           "bgcolor": "#E5ECF6",
           "radialaxis": {
            "gridcolor": "white",
            "linecolor": "white",
            "ticks": ""
           }
          },
          "scene": {
           "xaxis": {
            "backgroundcolor": "#E5ECF6",
            "gridcolor": "white",
            "gridwidth": 2,
            "linecolor": "white",
            "showbackground": true,
            "ticks": "",
            "zerolinecolor": "white"
           },
           "yaxis": {
            "backgroundcolor": "#E5ECF6",
            "gridcolor": "white",
            "gridwidth": 2,
            "linecolor": "white",
            "showbackground": true,
            "ticks": "",
            "zerolinecolor": "white"
           },
           "zaxis": {
            "backgroundcolor": "#E5ECF6",
            "gridcolor": "white",
            "gridwidth": 2,
            "linecolor": "white",
            "showbackground": true,
            "ticks": "",
            "zerolinecolor": "white"
           }
          },
          "shapedefaults": {
           "line": {
            "color": "#2a3f5f"
           }
          },
          "ternary": {
           "aaxis": {
            "gridcolor": "white",
            "linecolor": "white",
            "ticks": ""
           },
           "baxis": {
            "gridcolor": "white",
            "linecolor": "white",
            "ticks": ""
           },
           "bgcolor": "#E5ECF6",
           "caxis": {
            "gridcolor": "white",
            "linecolor": "white",
            "ticks": ""
           }
          },
          "title": {
           "x": 0.05
          },
          "xaxis": {
           "automargin": true,
           "gridcolor": "white",
           "linecolor": "white",
           "ticks": "",
           "title": {
            "standoff": 15
           },
           "zerolinecolor": "white",
           "zerolinewidth": 2
          },
          "yaxis": {
           "automargin": true,
           "gridcolor": "white",
           "linecolor": "white",
           "ticks": "",
           "title": {
            "standoff": 15
           },
           "zerolinecolor": "white",
           "zerolinewidth": 2
          }
         }
        }
       }
      },
      "text/html": [
       "<div>                            <div id=\"b1ec62b5-9bee-4847-9b04-04a3043ea5dc\" class=\"plotly-graph-div\" style=\"height:525px; width:100%;\"></div>            <script type=\"text/javascript\">                require([\"plotly\"], function(Plotly) {                    window.PLOTLYENV=window.PLOTLYENV || {};                                    if (document.getElementById(\"b1ec62b5-9bee-4847-9b04-04a3043ea5dc\")) {                    Plotly.newPlot(                        \"b1ec62b5-9bee-4847-9b04-04a3043ea5dc\",                        [{\"name\": \"Mantova\", \"type\": \"bar\", \"x\": [\"Luned\\u00ec\", \"Marted\\u00ec\", \"Mercoled\\u00ec\", \"Gioved\\u00ec\", \"Venerd\\u00ec\", \"Sabato\", \"Domenica\"], \"y\": [3058, 2880, 2977, 2714, 2858, 1977, 2147]}, {\"name\": \"Brescia\", \"type\": \"bar\", \"x\": [\"Luned\\u00ec\", \"Marted\\u00ec\", \"Mercoled\\u00ec\", \"Gioved\\u00ec\", \"Venerd\\u00ec\", \"Sabato\", \"Domenica\"], \"y\": [3192, 3135, 3717, 2890, 2948, 2356, 1794]}, {\"name\": \"Milano\", \"type\": \"bar\", \"x\": [\"Luned\\u00ec\", \"Marted\\u00ec\", \"Mercoled\\u00ec\", \"Gioved\\u00ec\", \"Venerd\\u00ec\", \"Sabato\", \"Domenica\"], \"y\": [14252, 14569, 14592, 15702, 17378, 20455, 17602]}, {\"name\": \"Ferrara\", \"type\": \"bar\", \"x\": [\"Luned\\u00ec\", \"Marted\\u00ec\", \"Mercoled\\u00ec\", \"Gioved\\u00ec\", \"Venerd\\u00ec\", \"Sabato\", \"Domenica\"], \"y\": [4608, 4678, 4568, 4595, 4766, 3786, 2996]}, {\"name\": \"Bologna\", \"type\": \"bar\", \"x\": [\"Luned\\u00ec\", \"Marted\\u00ec\", \"Mercoled\\u00ec\", \"Gioved\\u00ec\", \"Venerd\\u00ec\", \"Sabato\", \"Domenica\"], \"y\": [5345, 5322, 6235, 5461, 5829, 6162, 5365]}, {\"name\": \"Modena\", \"type\": \"bar\", \"x\": [\"Luned\\u00ec\", \"Marted\\u00ec\", \"Mercoled\\u00ec\", \"Gioved\\u00ec\", \"Venerd\\u00ec\", \"Sabato\", \"Domenica\"], \"y\": [992, 1405, 1204, 1014, 950, 1228, 1155]}, {\"name\": \"Pordenone\", \"type\": \"bar\", \"x\": [\"Luned\\u00ec\", \"Marted\\u00ec\", \"Mercoled\\u00ec\", \"Gioved\\u00ec\", \"Venerd\\u00ec\", \"Sabato\", \"Domenica\"], \"y\": [5174, 5940, 6324, 5984, 4563, 3394, 2866]}, {\"name\": \"Trieste\", \"type\": \"bar\", \"x\": [\"Luned\\u00ec\", \"Marted\\u00ec\", \"Mercoled\\u00ec\", \"Gioved\\u00ec\", \"Venerd\\u00ec\", \"Sabato\", \"Domenica\"], \"y\": [678, 1143, 1209, 1145, 1040, 846, 559]}, {\"name\": \"Udine\", \"type\": \"bar\", \"x\": [\"Luned\\u00ec\", \"Marted\\u00ec\", \"Mercoled\\u00ec\", \"Gioved\\u00ec\", \"Venerd\\u00ec\", \"Sabato\", \"Domenica\"], \"y\": [5722, 6703, 6421, 6030, 6542, 4492, 3723]}],                        {\"template\": {\"data\": {\"bar\": [{\"error_x\": {\"color\": \"#2a3f5f\"}, \"error_y\": {\"color\": \"#2a3f5f\"}, \"marker\": {\"line\": {\"color\": \"#E5ECF6\", \"width\": 0.5}}, \"type\": \"bar\"}], \"barpolar\": [{\"marker\": {\"line\": {\"color\": \"#E5ECF6\", \"width\": 0.5}}, \"type\": \"barpolar\"}], \"carpet\": [{\"aaxis\": {\"endlinecolor\": \"#2a3f5f\", \"gridcolor\": \"white\", \"linecolor\": \"white\", \"minorgridcolor\": \"white\", \"startlinecolor\": \"#2a3f5f\"}, \"baxis\": {\"endlinecolor\": \"#2a3f5f\", \"gridcolor\": \"white\", \"linecolor\": \"white\", \"minorgridcolor\": \"white\", \"startlinecolor\": \"#2a3f5f\"}, \"type\": \"carpet\"}], \"choropleth\": [{\"colorbar\": {\"outlinewidth\": 0, \"ticks\": \"\"}, \"type\": \"choropleth\"}], \"contour\": [{\"colorbar\": {\"outlinewidth\": 0, \"ticks\": \"\"}, \"colorscale\": [[0.0, \"#0d0887\"], [0.1111111111111111, \"#46039f\"], [0.2222222222222222, \"#7201a8\"], [0.3333333333333333, \"#9c179e\"], [0.4444444444444444, \"#bd3786\"], [0.5555555555555556, \"#d8576b\"], [0.6666666666666666, \"#ed7953\"], [0.7777777777777778, \"#fb9f3a\"], [0.8888888888888888, \"#fdca26\"], [1.0, \"#f0f921\"]], \"type\": \"contour\"}], \"contourcarpet\": [{\"colorbar\": {\"outlinewidth\": 0, \"ticks\": \"\"}, \"type\": \"contourcarpet\"}], \"heatmap\": [{\"colorbar\": {\"outlinewidth\": 0, \"ticks\": \"\"}, \"colorscale\": [[0.0, \"#0d0887\"], [0.1111111111111111, \"#46039f\"], [0.2222222222222222, \"#7201a8\"], [0.3333333333333333, \"#9c179e\"], [0.4444444444444444, \"#bd3786\"], [0.5555555555555556, \"#d8576b\"], [0.6666666666666666, \"#ed7953\"], [0.7777777777777778, \"#fb9f3a\"], [0.8888888888888888, \"#fdca26\"], [1.0, \"#f0f921\"]], \"type\": \"heatmap\"}], \"heatmapgl\": [{\"colorbar\": {\"outlinewidth\": 0, \"ticks\": \"\"}, \"colorscale\": [[0.0, \"#0d0887\"], [0.1111111111111111, \"#46039f\"], [0.2222222222222222, \"#7201a8\"], [0.3333333333333333, \"#9c179e\"], [0.4444444444444444, \"#bd3786\"], [0.5555555555555556, \"#d8576b\"], [0.6666666666666666, \"#ed7953\"], [0.7777777777777778, \"#fb9f3a\"], [0.8888888888888888, \"#fdca26\"], [1.0, \"#f0f921\"]], \"type\": \"heatmapgl\"}], \"histogram\": [{\"marker\": {\"colorbar\": {\"outlinewidth\": 0, \"ticks\": \"\"}}, \"type\": \"histogram\"}], \"histogram2d\": [{\"colorbar\": {\"outlinewidth\": 0, \"ticks\": \"\"}, \"colorscale\": [[0.0, \"#0d0887\"], [0.1111111111111111, \"#46039f\"], [0.2222222222222222, \"#7201a8\"], [0.3333333333333333, \"#9c179e\"], [0.4444444444444444, \"#bd3786\"], [0.5555555555555556, \"#d8576b\"], [0.6666666666666666, \"#ed7953\"], [0.7777777777777778, \"#fb9f3a\"], [0.8888888888888888, \"#fdca26\"], [1.0, \"#f0f921\"]], \"type\": \"histogram2d\"}], \"histogram2dcontour\": [{\"colorbar\": {\"outlinewidth\": 0, \"ticks\": \"\"}, \"colorscale\": [[0.0, \"#0d0887\"], [0.1111111111111111, \"#46039f\"], [0.2222222222222222, \"#7201a8\"], [0.3333333333333333, \"#9c179e\"], [0.4444444444444444, \"#bd3786\"], [0.5555555555555556, \"#d8576b\"], [0.6666666666666666, \"#ed7953\"], [0.7777777777777778, \"#fb9f3a\"], [0.8888888888888888, \"#fdca26\"], [1.0, \"#f0f921\"]], \"type\": \"histogram2dcontour\"}], \"mesh3d\": [{\"colorbar\": {\"outlinewidth\": 0, \"ticks\": \"\"}, \"type\": \"mesh3d\"}], \"parcoords\": [{\"line\": {\"colorbar\": {\"outlinewidth\": 0, \"ticks\": \"\"}}, \"type\": \"parcoords\"}], \"pie\": [{\"automargin\": true, \"type\": \"pie\"}], \"scatter\": [{\"marker\": {\"colorbar\": {\"outlinewidth\": 0, \"ticks\": \"\"}}, \"type\": \"scatter\"}], \"scatter3d\": [{\"line\": {\"colorbar\": {\"outlinewidth\": 0, \"ticks\": \"\"}}, \"marker\": {\"colorbar\": {\"outlinewidth\": 0, \"ticks\": \"\"}}, \"type\": \"scatter3d\"}], \"scattercarpet\": [{\"marker\": {\"colorbar\": {\"outlinewidth\": 0, \"ticks\": \"\"}}, \"type\": \"scattercarpet\"}], \"scattergeo\": [{\"marker\": {\"colorbar\": {\"outlinewidth\": 0, \"ticks\": \"\"}}, \"type\": \"scattergeo\"}], \"scattergl\": [{\"marker\": {\"colorbar\": {\"outlinewidth\": 0, \"ticks\": \"\"}}, \"type\": \"scattergl\"}], \"scattermapbox\": [{\"marker\": {\"colorbar\": {\"outlinewidth\": 0, \"ticks\": \"\"}}, \"type\": \"scattermapbox\"}], \"scatterpolar\": [{\"marker\": {\"colorbar\": {\"outlinewidth\": 0, \"ticks\": \"\"}}, \"type\": \"scatterpolar\"}], \"scatterpolargl\": [{\"marker\": {\"colorbar\": {\"outlinewidth\": 0, \"ticks\": \"\"}}, \"type\": \"scatterpolargl\"}], \"scatterternary\": [{\"marker\": {\"colorbar\": {\"outlinewidth\": 0, \"ticks\": \"\"}}, \"type\": \"scatterternary\"}], \"surface\": [{\"colorbar\": {\"outlinewidth\": 0, \"ticks\": \"\"}, \"colorscale\": [[0.0, \"#0d0887\"], [0.1111111111111111, \"#46039f\"], [0.2222222222222222, \"#7201a8\"], [0.3333333333333333, \"#9c179e\"], [0.4444444444444444, \"#bd3786\"], [0.5555555555555556, \"#d8576b\"], [0.6666666666666666, \"#ed7953\"], [0.7777777777777778, \"#fb9f3a\"], [0.8888888888888888, \"#fdca26\"], [1.0, \"#f0f921\"]], \"type\": \"surface\"}], \"table\": [{\"cells\": {\"fill\": {\"color\": \"#EBF0F8\"}, \"line\": {\"color\": \"white\"}}, \"header\": {\"fill\": {\"color\": \"#C8D4E3\"}, \"line\": {\"color\": \"white\"}}, \"type\": \"table\"}]}, \"layout\": {\"annotationdefaults\": {\"arrowcolor\": \"#2a3f5f\", \"arrowhead\": 0, \"arrowwidth\": 1}, \"autotypenumbers\": \"strict\", \"coloraxis\": {\"colorbar\": {\"outlinewidth\": 0, \"ticks\": \"\"}}, \"colorscale\": {\"diverging\": [[0, \"#8e0152\"], [0.1, \"#c51b7d\"], [0.2, \"#de77ae\"], [0.3, \"#f1b6da\"], [0.4, \"#fde0ef\"], [0.5, \"#f7f7f7\"], [0.6, \"#e6f5d0\"], [0.7, \"#b8e186\"], [0.8, \"#7fbc41\"], [0.9, \"#4d9221\"], [1, \"#276419\"]], \"sequential\": [[0.0, \"#0d0887\"], [0.1111111111111111, \"#46039f\"], [0.2222222222222222, \"#7201a8\"], [0.3333333333333333, \"#9c179e\"], [0.4444444444444444, \"#bd3786\"], [0.5555555555555556, \"#d8576b\"], [0.6666666666666666, \"#ed7953\"], [0.7777777777777778, \"#fb9f3a\"], [0.8888888888888888, \"#fdca26\"], [1.0, \"#f0f921\"]], \"sequentialminus\": [[0.0, \"#0d0887\"], [0.1111111111111111, \"#46039f\"], [0.2222222222222222, \"#7201a8\"], [0.3333333333333333, \"#9c179e\"], [0.4444444444444444, \"#bd3786\"], [0.5555555555555556, \"#d8576b\"], [0.6666666666666666, \"#ed7953\"], [0.7777777777777778, \"#fb9f3a\"], [0.8888888888888888, \"#fdca26\"], [1.0, \"#f0f921\"]]}, \"colorway\": [\"#636efa\", \"#EF553B\", \"#00cc96\", \"#ab63fa\", \"#FFA15A\", \"#19d3f3\", \"#FF6692\", \"#B6E880\", \"#FF97FF\", \"#FECB52\"], \"font\": {\"color\": \"#2a3f5f\"}, \"geo\": {\"bgcolor\": \"white\", \"lakecolor\": \"white\", \"landcolor\": \"#E5ECF6\", \"showlakes\": true, \"showland\": true, \"subunitcolor\": \"white\"}, \"hoverlabel\": {\"align\": \"left\"}, \"hovermode\": \"closest\", \"mapbox\": {\"style\": \"light\"}, \"paper_bgcolor\": \"white\", \"plot_bgcolor\": \"#E5ECF6\", \"polar\": {\"angularaxis\": {\"gridcolor\": \"white\", \"linecolor\": \"white\", \"ticks\": \"\"}, \"bgcolor\": \"#E5ECF6\", \"radialaxis\": {\"gridcolor\": \"white\", \"linecolor\": \"white\", \"ticks\": \"\"}}, \"scene\": {\"xaxis\": {\"backgroundcolor\": \"#E5ECF6\", \"gridcolor\": \"white\", \"gridwidth\": 2, \"linecolor\": \"white\", \"showbackground\": true, \"ticks\": \"\", \"zerolinecolor\": \"white\"}, \"yaxis\": {\"backgroundcolor\": \"#E5ECF6\", \"gridcolor\": \"white\", \"gridwidth\": 2, \"linecolor\": \"white\", \"showbackground\": true, \"ticks\": \"\", \"zerolinecolor\": \"white\"}, \"zaxis\": {\"backgroundcolor\": \"#E5ECF6\", \"gridcolor\": \"white\", \"gridwidth\": 2, \"linecolor\": \"white\", \"showbackground\": true, \"ticks\": \"\", \"zerolinecolor\": \"white\"}}, \"shapedefaults\": {\"line\": {\"color\": \"#2a3f5f\"}}, \"ternary\": {\"aaxis\": {\"gridcolor\": \"white\", \"linecolor\": \"white\", \"ticks\": \"\"}, \"baxis\": {\"gridcolor\": \"white\", \"linecolor\": \"white\", \"ticks\": \"\"}, \"bgcolor\": \"#E5ECF6\", \"caxis\": {\"gridcolor\": \"white\", \"linecolor\": \"white\", \"ticks\": \"\"}}, \"title\": {\"x\": 0.05}, \"xaxis\": {\"automargin\": true, \"gridcolor\": \"white\", \"linecolor\": \"white\", \"ticks\": \"\", \"title\": {\"standoff\": 15}, \"zerolinecolor\": \"white\", \"zerolinewidth\": 2}, \"yaxis\": {\"automargin\": true, \"gridcolor\": \"white\", \"linecolor\": \"white\", \"ticks\": \"\", \"title\": {\"standoff\": 15}, \"zerolinecolor\": \"white\", \"zerolinewidth\": 2}}}},                        {\"responsive\": true}                    ).then(function(){\n",
       "                            \n",
       "var gd = document.getElementById('b1ec62b5-9bee-4847-9b04-04a3043ea5dc');\n",
       "var x = new MutationObserver(function (mutations, observer) {{\n",
       "        var display = window.getComputedStyle(gd).display;\n",
       "        if (!display || display === 'none') {{\n",
       "            console.log([gd, 'removed!']);\n",
       "            Plotly.purge(gd);\n",
       "            observer.disconnect();\n",
       "        }}\n",
       "}});\n",
       "\n",
       "// Listen for the removal of the full notebook cells\n",
       "var notebookContainer = gd.closest('#notebook-container');\n",
       "if (notebookContainer) {{\n",
       "    x.observe(notebookContainer, {childList: true});\n",
       "}}\n",
       "\n",
       "// Listen for the clearing of the current output cell\n",
       "var outputEl = gd.closest('.output');\n",
       "if (outputEl) {{\n",
       "    x.observe(outputEl, {childList: true});\n",
       "}}\n",
       "\n",
       "                        })                };                });            </script>        </div>"
      ]
     },
     "metadata": {},
     "output_type": "display_data"
    },
    {
     "data": {
      "application/vnd.plotly.v1+json": {
       "config": {
        "plotlyServerURL": "https://plot.ly"
       },
       "data": [
        {
         "name": "Lombardia",
         "type": "scatter",
         "x": [
          "Lunedì",
          "Martedì",
          "Mercoledì",
          "Giovedì",
          "Venerdì",
          "Sabato",
          "Domenica"
         ],
         "y": [
          20502,
          20584,
          21286,
          21306,
          23184,
          24788,
          21543
         ]
        },
        {
         "name": "Emilia Romagna",
         "type": "scatter",
         "x": [
          "Lunedì",
          "Martedì",
          "Mercoledì",
          "Giovedì",
          "Venerdì",
          "Sabato",
          "Domenica"
         ],
         "y": [
          10945,
          11405,
          12007,
          11070,
          11545,
          11176,
          9516
         ]
        },
        {
         "name": "Friuli Venezia Giulia",
         "type": "scatter",
         "x": [
          "Lunedì",
          "Martedì",
          "Mercoledì",
          "Giovedì",
          "Venerdì",
          "Sabato",
          "Domenica"
         ],
         "y": [
          11574,
          13786,
          13954,
          13159,
          12145,
          8732,
          7148
         ]
        }
       ],
       "layout": {
        "template": {
         "data": {
          "bar": [
           {
            "error_x": {
             "color": "#2a3f5f"
            },
            "error_y": {
             "color": "#2a3f5f"
            },
            "marker": {
             "line": {
              "color": "#E5ECF6",
              "width": 0.5
             }
            },
            "type": "bar"
           }
          ],
          "barpolar": [
           {
            "marker": {
             "line": {
              "color": "#E5ECF6",
              "width": 0.5
             }
            },
            "type": "barpolar"
           }
          ],
          "carpet": [
           {
            "aaxis": {
             "endlinecolor": "#2a3f5f",
             "gridcolor": "white",
             "linecolor": "white",
             "minorgridcolor": "white",
             "startlinecolor": "#2a3f5f"
            },
            "baxis": {
             "endlinecolor": "#2a3f5f",
             "gridcolor": "white",
             "linecolor": "white",
             "minorgridcolor": "white",
             "startlinecolor": "#2a3f5f"
            },
            "type": "carpet"
           }
          ],
          "choropleth": [
           {
            "colorbar": {
             "outlinewidth": 0,
             "ticks": ""
            },
            "type": "choropleth"
           }
          ],
          "contour": [
           {
            "colorbar": {
             "outlinewidth": 0,
             "ticks": ""
            },
            "colorscale": [
             [
              0,
              "#0d0887"
             ],
             [
              0.1111111111111111,
              "#46039f"
             ],
             [
              0.2222222222222222,
              "#7201a8"
             ],
             [
              0.3333333333333333,
              "#9c179e"
             ],
             [
              0.4444444444444444,
              "#bd3786"
             ],
             [
              0.5555555555555556,
              "#d8576b"
             ],
             [
              0.6666666666666666,
              "#ed7953"
             ],
             [
              0.7777777777777778,
              "#fb9f3a"
             ],
             [
              0.8888888888888888,
              "#fdca26"
             ],
             [
              1,
              "#f0f921"
             ]
            ],
            "type": "contour"
           }
          ],
          "contourcarpet": [
           {
            "colorbar": {
             "outlinewidth": 0,
             "ticks": ""
            },
            "type": "contourcarpet"
           }
          ],
          "heatmap": [
           {
            "colorbar": {
             "outlinewidth": 0,
             "ticks": ""
            },
            "colorscale": [
             [
              0,
              "#0d0887"
             ],
             [
              0.1111111111111111,
              "#46039f"
             ],
             [
              0.2222222222222222,
              "#7201a8"
             ],
             [
              0.3333333333333333,
              "#9c179e"
             ],
             [
              0.4444444444444444,
              "#bd3786"
             ],
             [
              0.5555555555555556,
              "#d8576b"
             ],
             [
              0.6666666666666666,
              "#ed7953"
             ],
             [
              0.7777777777777778,
              "#fb9f3a"
             ],
             [
              0.8888888888888888,
              "#fdca26"
             ],
             [
              1,
              "#f0f921"
             ]
            ],
            "type": "heatmap"
           }
          ],
          "heatmapgl": [
           {
            "colorbar": {
             "outlinewidth": 0,
             "ticks": ""
            },
            "colorscale": [
             [
              0,
              "#0d0887"
             ],
             [
              0.1111111111111111,
              "#46039f"
             ],
             [
              0.2222222222222222,
              "#7201a8"
             ],
             [
              0.3333333333333333,
              "#9c179e"
             ],
             [
              0.4444444444444444,
              "#bd3786"
             ],
             [
              0.5555555555555556,
              "#d8576b"
             ],
             [
              0.6666666666666666,
              "#ed7953"
             ],
             [
              0.7777777777777778,
              "#fb9f3a"
             ],
             [
              0.8888888888888888,
              "#fdca26"
             ],
             [
              1,
              "#f0f921"
             ]
            ],
            "type": "heatmapgl"
           }
          ],
          "histogram": [
           {
            "marker": {
             "colorbar": {
              "outlinewidth": 0,
              "ticks": ""
             }
            },
            "type": "histogram"
           }
          ],
          "histogram2d": [
           {
            "colorbar": {
             "outlinewidth": 0,
             "ticks": ""
            },
            "colorscale": [
             [
              0,
              "#0d0887"
             ],
             [
              0.1111111111111111,
              "#46039f"
             ],
             [
              0.2222222222222222,
              "#7201a8"
             ],
             [
              0.3333333333333333,
              "#9c179e"
             ],
             [
              0.4444444444444444,
              "#bd3786"
             ],
             [
              0.5555555555555556,
              "#d8576b"
             ],
             [
              0.6666666666666666,
              "#ed7953"
             ],
             [
              0.7777777777777778,
              "#fb9f3a"
             ],
             [
              0.8888888888888888,
              "#fdca26"
             ],
             [
              1,
              "#f0f921"
             ]
            ],
            "type": "histogram2d"
           }
          ],
          "histogram2dcontour": [
           {
            "colorbar": {
             "outlinewidth": 0,
             "ticks": ""
            },
            "colorscale": [
             [
              0,
              "#0d0887"
             ],
             [
              0.1111111111111111,
              "#46039f"
             ],
             [
              0.2222222222222222,
              "#7201a8"
             ],
             [
              0.3333333333333333,
              "#9c179e"
             ],
             [
              0.4444444444444444,
              "#bd3786"
             ],
             [
              0.5555555555555556,
              "#d8576b"
             ],
             [
              0.6666666666666666,
              "#ed7953"
             ],
             [
              0.7777777777777778,
              "#fb9f3a"
             ],
             [
              0.8888888888888888,
              "#fdca26"
             ],
             [
              1,
              "#f0f921"
             ]
            ],
            "type": "histogram2dcontour"
           }
          ],
          "mesh3d": [
           {
            "colorbar": {
             "outlinewidth": 0,
             "ticks": ""
            },
            "type": "mesh3d"
           }
          ],
          "parcoords": [
           {
            "line": {
             "colorbar": {
              "outlinewidth": 0,
              "ticks": ""
             }
            },
            "type": "parcoords"
           }
          ],
          "pie": [
           {
            "automargin": true,
            "type": "pie"
           }
          ],
          "scatter": [
           {
            "marker": {
             "colorbar": {
              "outlinewidth": 0,
              "ticks": ""
             }
            },
            "type": "scatter"
           }
          ],
          "scatter3d": [
           {
            "line": {
             "colorbar": {
              "outlinewidth": 0,
              "ticks": ""
             }
            },
            "marker": {
             "colorbar": {
              "outlinewidth": 0,
              "ticks": ""
             }
            },
            "type": "scatter3d"
           }
          ],
          "scattercarpet": [
           {
            "marker": {
             "colorbar": {
              "outlinewidth": 0,
              "ticks": ""
             }
            },
            "type": "scattercarpet"
           }
          ],
          "scattergeo": [
           {
            "marker": {
             "colorbar": {
              "outlinewidth": 0,
              "ticks": ""
             }
            },
            "type": "scattergeo"
           }
          ],
          "scattergl": [
           {
            "marker": {
             "colorbar": {
              "outlinewidth": 0,
              "ticks": ""
             }
            },
            "type": "scattergl"
           }
          ],
          "scattermapbox": [
           {
            "marker": {
             "colorbar": {
              "outlinewidth": 0,
              "ticks": ""
             }
            },
            "type": "scattermapbox"
           }
          ],
          "scatterpolar": [
           {
            "marker": {
             "colorbar": {
              "outlinewidth": 0,
              "ticks": ""
             }
            },
            "type": "scatterpolar"
           }
          ],
          "scatterpolargl": [
           {
            "marker": {
             "colorbar": {
              "outlinewidth": 0,
              "ticks": ""
             }
            },
            "type": "scatterpolargl"
           }
          ],
          "scatterternary": [
           {
            "marker": {
             "colorbar": {
              "outlinewidth": 0,
              "ticks": ""
             }
            },
            "type": "scatterternary"
           }
          ],
          "surface": [
           {
            "colorbar": {
             "outlinewidth": 0,
             "ticks": ""
            },
            "colorscale": [
             [
              0,
              "#0d0887"
             ],
             [
              0.1111111111111111,
              "#46039f"
             ],
             [
              0.2222222222222222,
              "#7201a8"
             ],
             [
              0.3333333333333333,
              "#9c179e"
             ],
             [
              0.4444444444444444,
              "#bd3786"
             ],
             [
              0.5555555555555556,
              "#d8576b"
             ],
             [
              0.6666666666666666,
              "#ed7953"
             ],
             [
              0.7777777777777778,
              "#fb9f3a"
             ],
             [
              0.8888888888888888,
              "#fdca26"
             ],
             [
              1,
              "#f0f921"
             ]
            ],
            "type": "surface"
           }
          ],
          "table": [
           {
            "cells": {
             "fill": {
              "color": "#EBF0F8"
             },
             "line": {
              "color": "white"
             }
            },
            "header": {
             "fill": {
              "color": "#C8D4E3"
             },
             "line": {
              "color": "white"
             }
            },
            "type": "table"
           }
          ]
         },
         "layout": {
          "annotationdefaults": {
           "arrowcolor": "#2a3f5f",
           "arrowhead": 0,
           "arrowwidth": 1
          },
          "autotypenumbers": "strict",
          "coloraxis": {
           "colorbar": {
            "outlinewidth": 0,
            "ticks": ""
           }
          },
          "colorscale": {
           "diverging": [
            [
             0,
             "#8e0152"
            ],
            [
             0.1,
             "#c51b7d"
            ],
            [
             0.2,
             "#de77ae"
            ],
            [
             0.3,
             "#f1b6da"
            ],
            [
             0.4,
             "#fde0ef"
            ],
            [
             0.5,
             "#f7f7f7"
            ],
            [
             0.6,
             "#e6f5d0"
            ],
            [
             0.7,
             "#b8e186"
            ],
            [
             0.8,
             "#7fbc41"
            ],
            [
             0.9,
             "#4d9221"
            ],
            [
             1,
             "#276419"
            ]
           ],
           "sequential": [
            [
             0,
             "#0d0887"
            ],
            [
             0.1111111111111111,
             "#46039f"
            ],
            [
             0.2222222222222222,
             "#7201a8"
            ],
            [
             0.3333333333333333,
             "#9c179e"
            ],
            [
             0.4444444444444444,
             "#bd3786"
            ],
            [
             0.5555555555555556,
             "#d8576b"
            ],
            [
             0.6666666666666666,
             "#ed7953"
            ],
            [
             0.7777777777777778,
             "#fb9f3a"
            ],
            [
             0.8888888888888888,
             "#fdca26"
            ],
            [
             1,
             "#f0f921"
            ]
           ],
           "sequentialminus": [
            [
             0,
             "#0d0887"
            ],
            [
             0.1111111111111111,
             "#46039f"
            ],
            [
             0.2222222222222222,
             "#7201a8"
            ],
            [
             0.3333333333333333,
             "#9c179e"
            ],
            [
             0.4444444444444444,
             "#bd3786"
            ],
            [
             0.5555555555555556,
             "#d8576b"
            ],
            [
             0.6666666666666666,
             "#ed7953"
            ],
            [
             0.7777777777777778,
             "#fb9f3a"
            ],
            [
             0.8888888888888888,
             "#fdca26"
            ],
            [
             1,
             "#f0f921"
            ]
           ]
          },
          "colorway": [
           "#636efa",
           "#EF553B",
           "#00cc96",
           "#ab63fa",
           "#FFA15A",
           "#19d3f3",
           "#FF6692",
           "#B6E880",
           "#FF97FF",
           "#FECB52"
          ],
          "font": {
           "color": "#2a3f5f"
          },
          "geo": {
           "bgcolor": "white",
           "lakecolor": "white",
           "landcolor": "#E5ECF6",
           "showlakes": true,
           "showland": true,
           "subunitcolor": "white"
          },
          "hoverlabel": {
           "align": "left"
          },
          "hovermode": "closest",
          "mapbox": {
           "style": "light"
          },
          "paper_bgcolor": "white",
          "plot_bgcolor": "#E5ECF6",
          "polar": {
           "angularaxis": {
            "gridcolor": "white",
            "linecolor": "white",
            "ticks": ""
           },
           "bgcolor": "#E5ECF6",
           "radialaxis": {
            "gridcolor": "white",
            "linecolor": "white",
            "ticks": ""
           }
          },
          "scene": {
           "xaxis": {
            "backgroundcolor": "#E5ECF6",
            "gridcolor": "white",
            "gridwidth": 2,
            "linecolor": "white",
            "showbackground": true,
            "ticks": "",
            "zerolinecolor": "white"
           },
           "yaxis": {
            "backgroundcolor": "#E5ECF6",
            "gridcolor": "white",
            "gridwidth": 2,
            "linecolor": "white",
            "showbackground": true,
            "ticks": "",
            "zerolinecolor": "white"
           },
           "zaxis": {
            "backgroundcolor": "#E5ECF6",
            "gridcolor": "white",
            "gridwidth": 2,
            "linecolor": "white",
            "showbackground": true,
            "ticks": "",
            "zerolinecolor": "white"
           }
          },
          "shapedefaults": {
           "line": {
            "color": "#2a3f5f"
           }
          },
          "ternary": {
           "aaxis": {
            "gridcolor": "white",
            "linecolor": "white",
            "ticks": ""
           },
           "baxis": {
            "gridcolor": "white",
            "linecolor": "white",
            "ticks": ""
           },
           "bgcolor": "#E5ECF6",
           "caxis": {
            "gridcolor": "white",
            "linecolor": "white",
            "ticks": ""
           }
          },
          "title": {
           "x": 0.05
          },
          "xaxis": {
           "automargin": true,
           "gridcolor": "white",
           "linecolor": "white",
           "ticks": "",
           "title": {
            "standoff": 15
           },
           "zerolinecolor": "white",
           "zerolinewidth": 2
          },
          "yaxis": {
           "automargin": true,
           "gridcolor": "white",
           "linecolor": "white",
           "ticks": "",
           "title": {
            "standoff": 15
           },
           "zerolinecolor": "white",
           "zerolinewidth": 2
          }
         }
        }
       }
      },
      "text/html": [
       "<div>                            <div id=\"cc537457-66cb-452d-936c-ea18fe890b65\" class=\"plotly-graph-div\" style=\"height:525px; width:100%;\"></div>            <script type=\"text/javascript\">                require([\"plotly\"], function(Plotly) {                    window.PLOTLYENV=window.PLOTLYENV || {};                                    if (document.getElementById(\"cc537457-66cb-452d-936c-ea18fe890b65\")) {                    Plotly.newPlot(                        \"cc537457-66cb-452d-936c-ea18fe890b65\",                        [{\"name\": \"Lombardia\", \"type\": \"scatter\", \"x\": [\"Luned\\u00ec\", \"Marted\\u00ec\", \"Mercoled\\u00ec\", \"Gioved\\u00ec\", \"Venerd\\u00ec\", \"Sabato\", \"Domenica\"], \"y\": [20502, 20584, 21286, 21306, 23184, 24788, 21543]}, {\"name\": \"Emilia Romagna\", \"type\": \"scatter\", \"x\": [\"Luned\\u00ec\", \"Marted\\u00ec\", \"Mercoled\\u00ec\", \"Gioved\\u00ec\", \"Venerd\\u00ec\", \"Sabato\", \"Domenica\"], \"y\": [10945, 11405, 12007, 11070, 11545, 11176, 9516]}, {\"name\": \"Friuli Venezia Giulia\", \"type\": \"scatter\", \"x\": [\"Luned\\u00ec\", \"Marted\\u00ec\", \"Mercoled\\u00ec\", \"Gioved\\u00ec\", \"Venerd\\u00ec\", \"Sabato\", \"Domenica\"], \"y\": [11574, 13786, 13954, 13159, 12145, 8732, 7148]}],                        {\"template\": {\"data\": {\"bar\": [{\"error_x\": {\"color\": \"#2a3f5f\"}, \"error_y\": {\"color\": \"#2a3f5f\"}, \"marker\": {\"line\": {\"color\": \"#E5ECF6\", \"width\": 0.5}}, \"type\": \"bar\"}], \"barpolar\": [{\"marker\": {\"line\": {\"color\": \"#E5ECF6\", \"width\": 0.5}}, \"type\": \"barpolar\"}], \"carpet\": [{\"aaxis\": {\"endlinecolor\": \"#2a3f5f\", \"gridcolor\": \"white\", \"linecolor\": \"white\", \"minorgridcolor\": \"white\", \"startlinecolor\": \"#2a3f5f\"}, \"baxis\": {\"endlinecolor\": \"#2a3f5f\", \"gridcolor\": \"white\", \"linecolor\": \"white\", \"minorgridcolor\": \"white\", \"startlinecolor\": \"#2a3f5f\"}, \"type\": \"carpet\"}], \"choropleth\": [{\"colorbar\": {\"outlinewidth\": 0, \"ticks\": \"\"}, \"type\": \"choropleth\"}], \"contour\": [{\"colorbar\": {\"outlinewidth\": 0, \"ticks\": \"\"}, \"colorscale\": [[0.0, \"#0d0887\"], [0.1111111111111111, \"#46039f\"], [0.2222222222222222, \"#7201a8\"], [0.3333333333333333, \"#9c179e\"], [0.4444444444444444, \"#bd3786\"], [0.5555555555555556, \"#d8576b\"], [0.6666666666666666, \"#ed7953\"], [0.7777777777777778, \"#fb9f3a\"], [0.8888888888888888, \"#fdca26\"], [1.0, \"#f0f921\"]], \"type\": \"contour\"}], \"contourcarpet\": [{\"colorbar\": {\"outlinewidth\": 0, \"ticks\": \"\"}, \"type\": \"contourcarpet\"}], \"heatmap\": [{\"colorbar\": {\"outlinewidth\": 0, \"ticks\": \"\"}, \"colorscale\": [[0.0, \"#0d0887\"], [0.1111111111111111, \"#46039f\"], [0.2222222222222222, \"#7201a8\"], [0.3333333333333333, \"#9c179e\"], [0.4444444444444444, \"#bd3786\"], [0.5555555555555556, \"#d8576b\"], [0.6666666666666666, \"#ed7953\"], [0.7777777777777778, \"#fb9f3a\"], [0.8888888888888888, \"#fdca26\"], [1.0, \"#f0f921\"]], \"type\": \"heatmap\"}], \"heatmapgl\": [{\"colorbar\": {\"outlinewidth\": 0, \"ticks\": \"\"}, \"colorscale\": [[0.0, \"#0d0887\"], [0.1111111111111111, \"#46039f\"], [0.2222222222222222, \"#7201a8\"], [0.3333333333333333, \"#9c179e\"], [0.4444444444444444, \"#bd3786\"], [0.5555555555555556, \"#d8576b\"], [0.6666666666666666, \"#ed7953\"], [0.7777777777777778, \"#fb9f3a\"], [0.8888888888888888, \"#fdca26\"], [1.0, \"#f0f921\"]], \"type\": \"heatmapgl\"}], \"histogram\": [{\"marker\": {\"colorbar\": {\"outlinewidth\": 0, \"ticks\": \"\"}}, \"type\": \"histogram\"}], \"histogram2d\": [{\"colorbar\": {\"outlinewidth\": 0, \"ticks\": \"\"}, \"colorscale\": [[0.0, \"#0d0887\"], [0.1111111111111111, \"#46039f\"], [0.2222222222222222, \"#7201a8\"], [0.3333333333333333, \"#9c179e\"], [0.4444444444444444, \"#bd3786\"], [0.5555555555555556, \"#d8576b\"], [0.6666666666666666, \"#ed7953\"], [0.7777777777777778, \"#fb9f3a\"], [0.8888888888888888, \"#fdca26\"], [1.0, \"#f0f921\"]], \"type\": \"histogram2d\"}], \"histogram2dcontour\": [{\"colorbar\": {\"outlinewidth\": 0, \"ticks\": \"\"}, \"colorscale\": [[0.0, \"#0d0887\"], [0.1111111111111111, \"#46039f\"], [0.2222222222222222, \"#7201a8\"], [0.3333333333333333, \"#9c179e\"], [0.4444444444444444, \"#bd3786\"], [0.5555555555555556, \"#d8576b\"], [0.6666666666666666, \"#ed7953\"], [0.7777777777777778, \"#fb9f3a\"], [0.8888888888888888, \"#fdca26\"], [1.0, \"#f0f921\"]], \"type\": \"histogram2dcontour\"}], \"mesh3d\": [{\"colorbar\": {\"outlinewidth\": 0, \"ticks\": \"\"}, \"type\": \"mesh3d\"}], \"parcoords\": [{\"line\": {\"colorbar\": {\"outlinewidth\": 0, \"ticks\": \"\"}}, \"type\": \"parcoords\"}], \"pie\": [{\"automargin\": true, \"type\": \"pie\"}], \"scatter\": [{\"marker\": {\"colorbar\": {\"outlinewidth\": 0, \"ticks\": \"\"}}, \"type\": \"scatter\"}], \"scatter3d\": [{\"line\": {\"colorbar\": {\"outlinewidth\": 0, \"ticks\": \"\"}}, \"marker\": {\"colorbar\": {\"outlinewidth\": 0, \"ticks\": \"\"}}, \"type\": \"scatter3d\"}], \"scattercarpet\": [{\"marker\": {\"colorbar\": {\"outlinewidth\": 0, \"ticks\": \"\"}}, \"type\": \"scattercarpet\"}], \"scattergeo\": [{\"marker\": {\"colorbar\": {\"outlinewidth\": 0, \"ticks\": \"\"}}, \"type\": \"scattergeo\"}], \"scattergl\": [{\"marker\": {\"colorbar\": {\"outlinewidth\": 0, \"ticks\": \"\"}}, \"type\": \"scattergl\"}], \"scattermapbox\": [{\"marker\": {\"colorbar\": {\"outlinewidth\": 0, \"ticks\": \"\"}}, \"type\": \"scattermapbox\"}], \"scatterpolar\": [{\"marker\": {\"colorbar\": {\"outlinewidth\": 0, \"ticks\": \"\"}}, \"type\": \"scatterpolar\"}], \"scatterpolargl\": [{\"marker\": {\"colorbar\": {\"outlinewidth\": 0, \"ticks\": \"\"}}, \"type\": \"scatterpolargl\"}], \"scatterternary\": [{\"marker\": {\"colorbar\": {\"outlinewidth\": 0, \"ticks\": \"\"}}, \"type\": \"scatterternary\"}], \"surface\": [{\"colorbar\": {\"outlinewidth\": 0, \"ticks\": \"\"}, \"colorscale\": [[0.0, \"#0d0887\"], [0.1111111111111111, \"#46039f\"], [0.2222222222222222, \"#7201a8\"], [0.3333333333333333, \"#9c179e\"], [0.4444444444444444, \"#bd3786\"], [0.5555555555555556, \"#d8576b\"], [0.6666666666666666, \"#ed7953\"], [0.7777777777777778, \"#fb9f3a\"], [0.8888888888888888, \"#fdca26\"], [1.0, \"#f0f921\"]], \"type\": \"surface\"}], \"table\": [{\"cells\": {\"fill\": {\"color\": \"#EBF0F8\"}, \"line\": {\"color\": \"white\"}}, \"header\": {\"fill\": {\"color\": \"#C8D4E3\"}, \"line\": {\"color\": \"white\"}}, \"type\": \"table\"}]}, \"layout\": {\"annotationdefaults\": {\"arrowcolor\": \"#2a3f5f\", \"arrowhead\": 0, \"arrowwidth\": 1}, \"autotypenumbers\": \"strict\", \"coloraxis\": {\"colorbar\": {\"outlinewidth\": 0, \"ticks\": \"\"}}, \"colorscale\": {\"diverging\": [[0, \"#8e0152\"], [0.1, \"#c51b7d\"], [0.2, \"#de77ae\"], [0.3, \"#f1b6da\"], [0.4, \"#fde0ef\"], [0.5, \"#f7f7f7\"], [0.6, \"#e6f5d0\"], [0.7, \"#b8e186\"], [0.8, \"#7fbc41\"], [0.9, \"#4d9221\"], [1, \"#276419\"]], \"sequential\": [[0.0, \"#0d0887\"], [0.1111111111111111, \"#46039f\"], [0.2222222222222222, \"#7201a8\"], [0.3333333333333333, \"#9c179e\"], [0.4444444444444444, \"#bd3786\"], [0.5555555555555556, \"#d8576b\"], [0.6666666666666666, \"#ed7953\"], [0.7777777777777778, \"#fb9f3a\"], [0.8888888888888888, \"#fdca26\"], [1.0, \"#f0f921\"]], \"sequentialminus\": [[0.0, \"#0d0887\"], [0.1111111111111111, \"#46039f\"], [0.2222222222222222, \"#7201a8\"], [0.3333333333333333, \"#9c179e\"], [0.4444444444444444, \"#bd3786\"], [0.5555555555555556, \"#d8576b\"], [0.6666666666666666, \"#ed7953\"], [0.7777777777777778, \"#fb9f3a\"], [0.8888888888888888, \"#fdca26\"], [1.0, \"#f0f921\"]]}, \"colorway\": [\"#636efa\", \"#EF553B\", \"#00cc96\", \"#ab63fa\", \"#FFA15A\", \"#19d3f3\", \"#FF6692\", \"#B6E880\", \"#FF97FF\", \"#FECB52\"], \"font\": {\"color\": \"#2a3f5f\"}, \"geo\": {\"bgcolor\": \"white\", \"lakecolor\": \"white\", \"landcolor\": \"#E5ECF6\", \"showlakes\": true, \"showland\": true, \"subunitcolor\": \"white\"}, \"hoverlabel\": {\"align\": \"left\"}, \"hovermode\": \"closest\", \"mapbox\": {\"style\": \"light\"}, \"paper_bgcolor\": \"white\", \"plot_bgcolor\": \"#E5ECF6\", \"polar\": {\"angularaxis\": {\"gridcolor\": \"white\", \"linecolor\": \"white\", \"ticks\": \"\"}, \"bgcolor\": \"#E5ECF6\", \"radialaxis\": {\"gridcolor\": \"white\", \"linecolor\": \"white\", \"ticks\": \"\"}}, \"scene\": {\"xaxis\": {\"backgroundcolor\": \"#E5ECF6\", \"gridcolor\": \"white\", \"gridwidth\": 2, \"linecolor\": \"white\", \"showbackground\": true, \"ticks\": \"\", \"zerolinecolor\": \"white\"}, \"yaxis\": {\"backgroundcolor\": \"#E5ECF6\", \"gridcolor\": \"white\", \"gridwidth\": 2, \"linecolor\": \"white\", \"showbackground\": true, \"ticks\": \"\", \"zerolinecolor\": \"white\"}, \"zaxis\": {\"backgroundcolor\": \"#E5ECF6\", \"gridcolor\": \"white\", \"gridwidth\": 2, \"linecolor\": \"white\", \"showbackground\": true, \"ticks\": \"\", \"zerolinecolor\": \"white\"}}, \"shapedefaults\": {\"line\": {\"color\": \"#2a3f5f\"}}, \"ternary\": {\"aaxis\": {\"gridcolor\": \"white\", \"linecolor\": \"white\", \"ticks\": \"\"}, \"baxis\": {\"gridcolor\": \"white\", \"linecolor\": \"white\", \"ticks\": \"\"}, \"bgcolor\": \"#E5ECF6\", \"caxis\": {\"gridcolor\": \"white\", \"linecolor\": \"white\", \"ticks\": \"\"}}, \"title\": {\"x\": 0.05}, \"xaxis\": {\"automargin\": true, \"gridcolor\": \"white\", \"linecolor\": \"white\", \"ticks\": \"\", \"title\": {\"standoff\": 15}, \"zerolinecolor\": \"white\", \"zerolinewidth\": 2}, \"yaxis\": {\"automargin\": true, \"gridcolor\": \"white\", \"linecolor\": \"white\", \"ticks\": \"\", \"title\": {\"standoff\": 15}, \"zerolinecolor\": \"white\", \"zerolinewidth\": 2}}}},                        {\"responsive\": true}                    ).then(function(){\n",
       "                            \n",
       "var gd = document.getElementById('cc537457-66cb-452d-936c-ea18fe890b65');\n",
       "var x = new MutationObserver(function (mutations, observer) {{\n",
       "        var display = window.getComputedStyle(gd).display;\n",
       "        if (!display || display === 'none') {{\n",
       "            console.log([gd, 'removed!']);\n",
       "            Plotly.purge(gd);\n",
       "            observer.disconnect();\n",
       "        }}\n",
       "}});\n",
       "\n",
       "// Listen for the removal of the full notebook cells\n",
       "var notebookContainer = gd.closest('#notebook-container');\n",
       "if (notebookContainer) {{\n",
       "    x.observe(notebookContainer, {childList: true});\n",
       "}}\n",
       "\n",
       "// Listen for the clearing of the current output cell\n",
       "var outputEl = gd.closest('.output');\n",
       "if (outputEl) {{\n",
       "    x.observe(outputEl, {childList: true});\n",
       "}}\n",
       "\n",
       "                        })                };                });            </script>        </div>"
      ]
     },
     "metadata": {},
     "output_type": "display_data"
    }
   ],
   "source": [
    "##########################PLOT#########################à\n",
    "import pandas as pd\n",
    "import plotly.graph_objects as go\n",
    "from plotly.offline import iplot\n",
    "\n",
    "\n",
    "# plot the data of provinces during the day for one region\n",
    "fig2 = go.Figure()\n",
    "for i in range(3):  #CAMBIARE 3\n",
    "    for k in range(3):\n",
    "        fig2 = fig2.add_trace(go.Bar(x = flow_each_pro[reg[i],k][\"DOW\"], y = flow_each_pro[reg[i],k][\"FLOW\"],name = flow_each_pro[reg[i],k].iloc[0,1]))\n",
    "fig2.show()\n",
    "\n",
    "# plot the data of provinces during the day for one region\n",
    "fig3 = go.Figure()\n",
    "for i in range(3):  \n",
    "        fig3 = fig3.add_trace(go.Scatter(x = flux_sum_perday[reg[i]][\"DOW\"], y = flux_sum_perday[reg[i]][\"FLOW\"],name =reg[i]))\n",
    "fig3.show()\n"
   ]
  },
  {
   "cell_type": "code",
   "execution_count": 516,
   "metadata": {},
   "outputs": [],
   "source": [
    "#TRIAL FOR MONTHS\n",
    "#manca il dataset, va definito...\n",
    "   "
   ]
  }
 ],
 "metadata": {
  "kernelspec": {
   "display_name": "Python 3",
   "language": "python",
   "name": "python3"
  },
  "language_info": {
   "codemirror_mode": {
    "name": "ipython",
    "version": 3
   },
   "file_extension": ".py",
   "mimetype": "text/x-python",
   "name": "python",
   "nbconvert_exporter": "python",
   "pygments_lexer": "ipython3",
   "version": "3.8.3"
  }
 },
 "nbformat": 4,
 "nbformat_minor": 4
}
